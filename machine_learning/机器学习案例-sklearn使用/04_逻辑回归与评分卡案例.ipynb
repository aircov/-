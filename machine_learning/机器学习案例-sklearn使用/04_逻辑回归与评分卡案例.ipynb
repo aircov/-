{
 "cells": [
  {
   "cell_type": "markdown",
   "metadata": {},
   "source": [
    "逻辑回归\n",
    "损失函数：这个评估指标，来衡量参数为θ的模型拟合训练集时产生的信息损失的大小，并以此衡\n",
    "量参数θ的优劣。我们追求能够让损失函数最小化的参数组合。\n",
    "L1正则化会将参数压缩为0，L2正则化只会让参数尽量小，不会取到0。"
   ]
  },
  {
   "cell_type": "code",
   "execution_count": 1,
   "metadata": {},
   "outputs": [],
   "source": [
    "from sklearn.linear_model import LogisticRegression as LR\n",
    "from sklearn.datasets import load_breast_cancer\n",
    "import numpy as np\n",
    "import pandas as pd\n",
    "import matplotlib.pyplot as plt\n",
    "from sklearn.model_selection import train_test_split\n",
    "from sklearn.metrics import accuracy_score\n",
    "from sklearn.model_selection import cross_val_score\n",
    "from sklearn.feature_selection import SelectFromModel"
   ]
  },
  {
   "cell_type": "code",
   "execution_count": 2,
   "metadata": {},
   "outputs": [],
   "source": [
    "data = load_breast_cancer()\n",
    "x = data.data\n",
    "y= data.target"
   ]
  },
  {
   "cell_type": "code",
   "execution_count": 3,
   "metadata": {},
   "outputs": [
    {
     "data": {
      "text/plain": [
       "(569, 30)"
      ]
     },
     "execution_count": 3,
     "metadata": {},
     "output_type": "execute_result"
    }
   ],
   "source": [
    "x.shape"
   ]
  },
  {
   "cell_type": "code",
   "execution_count": 4,
   "metadata": {},
   "outputs": [],
   "source": [
    "lrl1 = LR(penalty='l1',solver='liblinear',C=0.5,max_iter=1000)\n",
    "lrl2 = LR(penalty=\"l2\",solver=\"liblinear\",C=0.5,max_iter=1000)"
   ]
  },
  {
   "cell_type": "code",
   "execution_count": 5,
   "metadata": {},
   "outputs": [
    {
     "data": {
      "text/plain": [
       "array([[ 3.99105447,  0.03151838, -0.13575643, -0.0162122 ,  0.        ,\n",
       "         0.        ,  0.        ,  0.        ,  0.        ,  0.        ,\n",
       "         0.        ,  0.50380468,  0.        , -0.07123829,  0.        ,\n",
       "         0.        ,  0.        ,  0.        ,  0.        ,  0.        ,\n",
       "         0.        , -0.24541668, -0.12845351, -0.01442061,  0.        ,\n",
       "         0.        , -2.05158854,  0.        ,  0.        ,  0.        ]])"
      ]
     },
     "execution_count": 5,
     "metadata": {},
     "output_type": "execute_result"
    }
   ],
   "source": [
    "#逻辑回归的重要属性coef_，查看每个特征所对应的参数\n",
    "lrl1 = lrl1.fit(x,y)\n",
    "lrl1.coef_"
   ]
  },
  {
   "cell_type": "code",
   "execution_count": 6,
   "metadata": {},
   "outputs": [
    {
     "data": {
      "text/plain": [
       "array([10])"
      ]
     },
     "execution_count": 6,
     "metadata": {},
     "output_type": "execute_result"
    }
   ],
   "source": [
    "(lrl1.coef_!=0).sum(axis=1)  # 30个特征中有10个特征的系数不为0"
   ]
  },
  {
   "cell_type": "code",
   "execution_count": 7,
   "metadata": {},
   "outputs": [
    {
     "data": {
      "text/plain": [
       "array([[ 1.61331113e+00,  1.00124605e-01,  4.60084834e-02,\n",
       "        -4.19839432e-03, -9.26228937e-02, -3.00484301e-01,\n",
       "        -4.53250190e-01, -2.19778015e-01, -1.33074668e-01,\n",
       "        -1.92576286e-02,  1.89635811e-02,  8.74998561e-01,\n",
       "         1.32421950e-01, -9.53784314e-02, -9.62972408e-03,\n",
       "        -2.53596204e-02, -5.83890299e-02, -2.67755115e-02,\n",
       "        -2.73846616e-02, -8.05302929e-05,  1.28529688e+00,\n",
       "        -3.00088054e-01, -1.74310770e-01, -2.23545072e-02,\n",
       "        -1.70267493e-01, -8.77272211e-01, -1.15830085e+00,\n",
       "        -4.22526360e-01, -4.12406225e-01, -8.66393364e-02]])"
      ]
     },
     "execution_count": 7,
     "metadata": {},
     "output_type": "execute_result"
    }
   ],
   "source": [
    "lrl2 = lrl2.fit(x,y)\n",
    "lrl2.coef_"
   ]
  },
  {
   "cell_type": "code",
   "execution_count": 8,
   "metadata": {},
   "outputs": [
    {
     "data": {
      "image/png": "[encoded data removed]",
      "text/plain": [
       "<Figure size 432x432 with 1 Axes>"
      ]
     },
     "metadata": {
      "needs_background": "light"
     },
     "output_type": "display_data"
    }
   ],
   "source": [
    "# 查看正则化参数的效果\n",
    "l1 = []\n",
    "l2 = []\n",
    "l1test = []\n",
    "l2test = []\n",
    "\n",
    "# 切分数据集\n",
    "Xtrain, Xtest, Ytrain, Ytest = train_test_split(x,y,test_size=0.3,random_state=420)\n",
    " \n",
    "for i in np.linspace(0.05,1.5,19):\n",
    "    lrl1 = LR(penalty=\"l1\",solver=\"liblinear\",C=i,max_iter=1000)\n",
    "    lrl2 = LR(penalty=\"l2\",solver=\"liblinear\",C=i,max_iter=1000)\n",
    "    \n",
    "    lrl1 = lrl1.fit(Xtrain,Ytrain)\n",
    "    l1.append(accuracy_score(lrl1.predict(Xtrain),Ytrain))\n",
    "    l1test.append(accuracy_score(lrl1.predict(Xtest),Ytest))\n",
    "    lrl2 = lrl2.fit(Xtrain,Ytrain)\n",
    "    l2.append(accuracy_score(lrl2.predict(Xtrain),Ytrain))\n",
    "    l2test.append(accuracy_score(lrl2.predict(Xtest),Ytest))\n",
    " \n",
    "graph = [l1,l2,l1test,l2test]\n",
    "color = [\"green\",\"black\",\"lightgreen\",\"gray\"]\n",
    "label = [\"L1\",\"L2\",\"L1test\",\"L2test\"]    \n",
    " \n",
    "plt.figure(figsize=(6,6))\n",
    "for i in range(len(graph)):\n",
    "    plt.plot(np.linspace(0.05,1.5,19),graph[i],color[i],label=label[i])\n",
    "plt.legend(loc=4) #图例的位置在哪里?4表示，右下角\n",
    "plt.show()"
   ]
  },
  {
   "cell_type": "markdown",
   "metadata": {},
   "source": [
    "两种正则化的结果区别不大。但随着C的逐渐变大，正则化的强度越来越小，模型在训练集和测试集上的表现都呈上升趋势，直到C=0.8左右，训练集上的表现依然在走高，但模型在未知数据集上的表现开始下跌，这时候就是出现了过拟合。我们可以认为，C设定为0.8会比较好。在实际使用时，基本就默认使用l2正则化，如果感觉到模型的效果不好，试试L1"
   ]
  },
  {
   "cell_type": "code",
   "execution_count": 9,
   "metadata": {},
   "outputs": [
    {
     "data": {
      "text/plain": [
       "(569, 30)"
      ]
     },
     "execution_count": 9,
     "metadata": {},
     "output_type": "execute_result"
    }
   ],
   "source": [
    "# embedded 降维\n",
    "data.data.shape"
   ]
  },
  {
   "cell_type": "code",
   "execution_count": 10,
   "metadata": {},
   "outputs": [
    {
     "data": {
      "text/plain": [
       "0.9508150908244062"
      ]
     },
     "execution_count": 10,
     "metadata": {},
     "output_type": "execute_result"
    }
   ],
   "source": [
    "LR_ = LR(solver='liblinear',C=0.8,random_state=1)\n",
    "cross_val_score(LR_,data.data,data.target,cv=5).mean()"
   ]
  },
  {
   "cell_type": "code",
   "execution_count": 11,
   "metadata": {},
   "outputs": [
    {
     "data": {
      "text/plain": [
       "(569, 8)"
      ]
     },
     "execution_count": 11,
     "metadata": {},
     "output_type": "execute_result"
    }
   ],
   "source": [
    "# L1正则化会使部分特征对应的参数为0，可以用来特征选择  norm_order=1 代表使用L1正则化\n",
    "X_embedded = SelectFromModel(LR_,norm_order=1).fit_transform(data.data,data.target)\n",
    " \n",
    "X_embedded.shape"
   ]
  },
  {
   "cell_type": "code",
   "execution_count": 12,
   "metadata": {},
   "outputs": [
    {
     "data": {
      "text/plain": [
       "0.9349945660611707"
      ]
     },
     "execution_count": 12,
     "metadata": {},
     "output_type": "execute_result"
    }
   ],
   "source": [
    "cross_val_score(LR_, X_embedded,data.target,cv=5).mean()"
   ]
  },
  {
   "cell_type": "code",
   "execution_count": 13,
   "metadata": {},
   "outputs": [
    {
     "data": {
      "text/plain": [
       "array([0.        , 0.09655742, 0.19311484, 0.28967226, 0.38622967,\n",
       "       0.48278709, 0.57934451, 0.67590193, 0.77245935, 0.86901677,\n",
       "       0.96557419, 1.0621316 , 1.15868902, 1.25524644, 1.35180386,\n",
       "       1.44836128, 1.5449187 , 1.64147612, 1.73803353, 1.83459095])"
      ]
     },
     "execution_count": 13,
     "metadata": {},
     "output_type": "execute_result"
    }
   ],
   "source": [
    "threshold = np.linspace(0,abs((LR_.fit(data.data,data.target).coef_)).max(),20)\n",
    "threshold"
   ]
  },
  {
   "cell_type": "code",
   "execution_count": 14,
   "metadata": {},
   "outputs": [
    {
     "name": "stdout",
     "output_type": "stream",
     "text": [
      "(0.0, 30)\n",
      "(0.09655741855962269, 18)\n",
      "(0.19311483711924537, 12)\n",
      "(0.28967225567886806, 10)\n",
      "(0.38622967423849075, 8)\n",
      "(0.48278709279811344, 6)\n",
      "(0.5793445113577361, 5)\n",
      "(0.6759019299173588, 5)\n",
      "(0.7724593484769815, 5)\n",
      "(0.8690167670366042, 5)\n",
      "(0.9655741855962269, 5)\n",
      "(1.0621316041558495, 3)\n",
      "(1.1586890227154722, 3)\n",
      "(1.255246441275095, 3)\n",
      "(1.3518038598347175, 2)\n",
      "(1.4483612783943403, 2)\n",
      "(1.544918696953963, 2)\n",
      "(1.6414761155135857, 1)\n",
      "(1.7380335340732085, 1)\n",
      "(1.834590952632831, 1)\n"
     ]
    },
    {
     "data": {
      "image/png": "[encoded data removed]",
      "text/plain": [
       "<Figure size 1440x360 with 1 Axes>"
      ]
     },
     "metadata": {
      "needs_background": "light"
     },
     "output_type": "display_data"
    }
   ],
   "source": [
    "# threshold 学习曲线\n",
    "fullx = []\n",
    "fsx = []\n",
    " \n",
    "threshold = np.linspace(0,abs((LR_.fit(data.data,data.target).coef_)).max(),20)\n",
    " \n",
    "k=0\n",
    "for i in threshold:\n",
    "    X_embedded = SelectFromModel(LR_,threshold=i).fit_transform(data.data,data.target)\n",
    "    fullx.append(cross_val_score(LR_,data.data,data.target,cv=5).mean())\n",
    "    fsx.append(cross_val_score(LR_,X_embedded,data.target,cv=5).mean())\n",
    "    print((threshold[k],X_embedded.shape[1]))\n",
    "    k+=1\n",
    "    \n",
    "plt.figure(figsize=(20,5))\n",
    "plt.plot(threshold,fullx,label=\"full\")\n",
    "plt.plot(threshold,fsx,label=\"feature selection\")\n",
    "plt.xticks(threshold)\n",
    "plt.legend()\n",
    "plt.show()"
   ]
  },
  {
   "cell_type": "code",
   "execution_count": 15,
   "metadata": {},
   "outputs": [
    {
     "name": "stdout",
     "output_type": "stream",
     "text": [
      "0.9561090225563911 6.0649999999999995\n"
     ]
    },
    {
     "data": {
      "image/png": "[encoded data removed]",
      "text/plain": [
       "<Figure size 1440x360 with 1 Axes>"
      ]
     },
     "metadata": {
      "needs_background": "light"
     },
     "output_type": "display_data"
    }
   ],
   "source": [
    "# C值学习曲线\n",
    "fullx = []\n",
    "fsx = []\n",
    " \n",
    "C=np.arange(6.05,7.05,0.005)\n",
    " \n",
    "for i in C:\n",
    "    LR_ = LR(solver=\"liblinear\",C=i,random_state=420)\n",
    "    \n",
    "    fullx.append(cross_val_score(LR_,data.data,data.target,cv=10).mean())\n",
    "    \n",
    "    X_embedded = SelectFromModel(LR_,norm_order=1).fit_transform(data.data,data.target)\n",
    "    fsx.append(cross_val_score(LR_,X_embedded,data.target,cv=10).mean())\n",
    "    \n",
    "print(max(fsx),C[fsx.index(max(fsx))])\n",
    " \n",
    "plt.figure(figsize=(20,5))\n",
    "plt.plot(C,fullx,label=\"full\")\n",
    "plt.plot(C,fsx,label=\"feature selection\")\n",
    "plt.xticks(C)\n",
    "plt.legend()\n",
    "plt.show()"
   ]
  },
  {
   "cell_type": "code",
   "execution_count": 16,
   "metadata": {},
   "outputs": [
    {
     "data": {
      "text/plain": [
       "0.9490601503759398"
      ]
     },
     "execution_count": 16,
     "metadata": {},
     "output_type": "execute_result"
    }
   ],
   "source": [
    "#验证模型效果：降维之前\n",
    "LR_ = LR(solver=\"liblinear\",C=6.0649999999999995,random_state=1)\n",
    "cross_val_score(LR_,data.data,data.target,cv=10).mean()"
   ]
  },
  {
   "cell_type": "code",
   "execution_count": 17,
   "metadata": {},
   "outputs": [
    {
     "data": {
      "text/plain": [
       "0.9561090225563911"
      ]
     },
     "execution_count": 17,
     "metadata": {},
     "output_type": "execute_result"
    }
   ],
   "source": [
    "#验证模型效果：降维之后\n",
    "LR_ = LR(solver=\"liblinear\",C=6.0649999999999995,random_state=1)\n",
    "X_embedded = SelectFromModel(LR_,norm_order=1).fit_transform(data.data,data.target)\n",
    "cross_val_score(LR_,X_embedded,data.target,cv=10).mean()"
   ]
  },
  {
   "cell_type": "code",
   "execution_count": 18,
   "metadata": {},
   "outputs": [
    {
     "data": {
      "text/plain": [
       "(569, 11)"
      ]
     },
     "execution_count": 18,
     "metadata": {},
     "output_type": "execute_result"
    }
   ],
   "source": [
    "X_embedded.shape"
   ]
  },
  {
   "cell_type": "markdown",
   "metadata": {},
   "source": [
    "![image.png](attachment:image.png)"
   ]
  },
  {
   "cell_type": "markdown",
   "metadata": {},
   "source": [
    "![image.png](attachment:image.png)"
   ]
  },
  {
   "cell_type": "markdown",
   "metadata": {},
   "source": [
    "步长![image.png](attachment:image.png)"
   ]
  },
  {
   "cell_type": "code",
   "execution_count": 19,
   "metadata": {},
   "outputs": [
    {
     "name": "stderr",
     "output_type": "stream",
     "text": [
      "/usr/local/lib/python3.6/dist-packages/sklearn/svm/_base.py:977: ConvergenceWarning: Liblinear failed to converge, increase the number of iterations.\n",
      "  \"the number of iterations.\", ConvergenceWarning)\n",
      "/usr/local/lib/python3.6/dist-packages/sklearn/svm/_base.py:977: ConvergenceWarning: Liblinear failed to converge, increase the number of iterations.\n",
      "  \"the number of iterations.\", ConvergenceWarning)\n",
      "/usr/local/lib/python3.6/dist-packages/sklearn/svm/_base.py:977: ConvergenceWarning: Liblinear failed to converge, increase the number of iterations.\n",
      "  \"the number of iterations.\", ConvergenceWarning)\n"
     ]
    },
    {
     "data": {
      "image/png": "[encoded data removed]",
      "text/plain": [
       "<Figure size 1440x360 with 1 Axes>"
      ]
     },
     "metadata": {
      "needs_background": "light"
     },
     "output_type": "display_data"
    }
   ],
   "source": [
    "# max_iter学习曲线\n",
    "l2 = []\n",
    "l2test = []\n",
    " \n",
    "Xtrain, Xtest, Ytrain, Ytest = train_test_split(x,y,test_size=0.3,random_state=420)\n",
    " \n",
    "for i in np.arange(1,201,10):\n",
    "    lrl2 = LR(penalty=\"l2\",solver=\"liblinear\",C=0.8,max_iter=i)\n",
    "    lrl2 = lrl2.fit(Xtrain,Ytrain)\n",
    "    l2.append(accuracy_score(lrl2.predict(Xtrain),Ytrain))\n",
    "    l2test.append(accuracy_score(lrl2.predict(Xtest),Ytest))\n",
    "    \n",
    "graph = [l2,l2test]\n",
    "color = [\"black\",\"gray\"]\n",
    "label = [\"L2\",\"L2test\"]\n",
    "    \n",
    "plt.figure(figsize=(20,5))\n",
    "for i in range(len(graph)):\n",
    "    plt.plot(np.arange(1,201,10),graph[i],color[i],label=label[i])\n",
    "plt.legend(loc=4)\n",
    "plt.xticks(np.arange(1,201,10))\n",
    "plt.show()"
   ]
  },
  {
   "cell_type": "code",
   "execution_count": 20,
   "metadata": {},
   "outputs": [
    {
     "data": {
      "text/plain": [
       "array([24], dtype=int32)"
      ]
     },
     "execution_count": 20,
     "metadata": {},
     "output_type": "execute_result"
    }
   ],
   "source": [
    "#我们可以使用属性.n_iter_来调用本次求解中真正实现的迭代次数\n",
    " \n",
    "lr = LR(penalty=\"l2\",solver=\"liblinear\",C=0.9,max_iter=300).fit(Xtrain,Ytrain)\n",
    "lr.n_iter_#array([24], dtype=int32)  只迭代了24次就达到收敛"
   ]
  },
  {
   "cell_type": "code",
   "execution_count": 21,
   "metadata": {},
   "outputs": [
    {
     "name": "stdout",
     "output_type": "stream",
     "text": [
      "[0 0 0 0 0 0 0 0 0 0 0 0 0 0 0 0 0 0 0 0 0 0 0 0 0 0 0 0 0 0 0 0 0 0 0 0 0\n",
      " 0 0 0 0 0 0 0 0 0 0 0 0 0 1 1 1 1 1 1 1 1 1 1 1 1 1 1 1 1 1 1 1 1 1 1 1 1\n",
      " 1 1 1 1 1 1 1 1 1 1 1 1 1 1 1 1 1 1 1 1 1 1 1 1 1 1 2 2 2 2 2 2 2 2 2 2 2\n",
      " 2 2 2 2 2 2 2 2 2 2 2 2 2 2 2 2 2 2 2 2 2 2 2 2 2 2 2 2 2 2 2 2 2 2 2 2 2\n",
      " 2 2]\n",
      "training score : 0.987 (multinomial)\n",
      "training score : 0.987 (auto)\n",
      "training score : 0.960 (ovr)\n"
     ]
    },
    {
     "name": "stderr",
     "output_type": "stream",
     "text": [
      "/usr/local/lib/python3.6/dist-packages/sklearn/linear_model/_sag.py:330: ConvergenceWarning: The max_iter was reached which means the coef_ did not converge\n",
      "  \"the coef_ did not converge\", ConvergenceWarning)\n",
      "/usr/local/lib/python3.6/dist-packages/sklearn/linear_model/_sag.py:330: ConvergenceWarning: The max_iter was reached which means the coef_ did not converge\n",
      "  \"the coef_ did not converge\", ConvergenceWarning)\n",
      "/usr/local/lib/python3.6/dist-packages/sklearn/linear_model/_sag.py:330: ConvergenceWarning: The max_iter was reached which means the coef_ did not converge\n",
      "  \"the coef_ did not converge\", ConvergenceWarning)\n",
      "/usr/local/lib/python3.6/dist-packages/sklearn/linear_model/_sag.py:330: ConvergenceWarning: The max_iter was reached which means the coef_ did not converge\n",
      "  \"the coef_ did not converge\", ConvergenceWarning)\n",
      "/usr/local/lib/python3.6/dist-packages/sklearn/linear_model/_sag.py:330: ConvergenceWarning: The max_iter was reached which means the coef_ did not converge\n",
      "  \"the coef_ did not converge\", ConvergenceWarning)\n"
     ]
    }
   ],
   "source": [
    "# “liblinear”是二分类求解器，sag随机平均梯度下降\n",
    "# multinomial 多分类, ovr表示分类问题是二分类，或让模型使用\"一对多\"的形式来处理多分类问题\n",
    "from sklearn.datasets import load_iris\n",
    "iris = load_iris()\n",
    "print(iris.target)  # 三分类数据集\n",
    "\n",
    "for multi_class in ('multinomial', 'auto', 'ovr'):\n",
    "    clf = LR(solver='sag', max_iter=100, random_state=42,multi_class=multi_class).fit(iris.data, iris.target)\n",
    " \n",
    "#打印两种multi_class模式下的训练分数\n",
    "#%的用法，用%来代替打印的字符串中，想由变量替换的部分。%.3f表示，保留三位小数的浮点数。%s表示，字符串。\n",
    "#字符串后的%后使用元祖来容纳变量，字符串中有几个%，元祖中就需要有几个变量\n",
    " \n",
    "    print(\"training score : %.3f (%s)\" % (clf.score(iris.data, iris.target), multi_class))"
   ]
  },
  {
   "cell_type": "markdown",
   "metadata": {},
   "source": [
    "# 用逻辑回归制作评分卡"
   ]
  },
  {
   "cell_type": "code",
   "execution_count": 22,
   "metadata": {},
   "outputs": [],
   "source": [
    "data = pd.read_csv('./data/rankingcard.csv',index_col=0)"
   ]
  },
  {
   "cell_type": "code",
   "execution_count": 23,
   "metadata": {},
   "outputs": [
    {
     "data": {
      "text/html": [
       "<div>\n",
       "<style scoped>\n",
       "    .dataframe tbody tr th:only-of-type {\n",
       "        vertical-align: middle;\n",
       "    }\n",
       "\n",
       "    .dataframe tbody tr th {\n",
       "        vertical-align: top;\n",
       "    }\n",
       "\n",
       "    .dataframe thead th {\n",
       "        text-align: right;\n",
       "    }\n",
       "</style>\n",
       "<table border=\"1\" class=\"dataframe\">\n",
       "  <thead>\n",
       "    <tr style=\"text-align: right;\">\n",
       "      <th></th>\n",
       "      <th>SeriousDlqin2yrs</th>\n",
       "      <th>RevolvingUtilizationOfUnsecuredLines</th>\n",
       "      <th>age</th>\n",
       "      <th>NumberOfTime30-59DaysPastDueNotWorse</th>\n",
       "      <th>DebtRatio</th>\n",
       "      <th>MonthlyIncome</th>\n",
       "      <th>NumberOfOpenCreditLinesAndLoans</th>\n",
       "      <th>NumberOfTimes90DaysLate</th>\n",
       "      <th>NumberRealEstateLoansOrLines</th>\n",
       "      <th>NumberOfTime60-89DaysPastDueNotWorse</th>\n",
       "      <th>NumberOfDependents</th>\n",
       "    </tr>\n",
       "  </thead>\n",
       "  <tbody>\n",
       "    <tr>\n",
       "      <th>142246</th>\n",
       "      <td>0</td>\n",
       "      <td>0.004697</td>\n",
       "      <td>64</td>\n",
       "      <td>0</td>\n",
       "      <td>0.085250</td>\n",
       "      <td>3260.0</td>\n",
       "      <td>3</td>\n",
       "      <td>0</td>\n",
       "      <td>0</td>\n",
       "      <td>0</td>\n",
       "      <td>2.0</td>\n",
       "    </tr>\n",
       "    <tr>\n",
       "      <th>94540</th>\n",
       "      <td>0</td>\n",
       "      <td>0.000000</td>\n",
       "      <td>51</td>\n",
       "      <td>0</td>\n",
       "      <td>0.273830</td>\n",
       "      <td>7091.0</td>\n",
       "      <td>9</td>\n",
       "      <td>0</td>\n",
       "      <td>1</td>\n",
       "      <td>0</td>\n",
       "      <td>0.0</td>\n",
       "    </tr>\n",
       "    <tr>\n",
       "      <th>142296</th>\n",
       "      <td>0</td>\n",
       "      <td>0.894374</td>\n",
       "      <td>51</td>\n",
       "      <td>0</td>\n",
       "      <td>1200.000000</td>\n",
       "      <td>NaN</td>\n",
       "      <td>11</td>\n",
       "      <td>0</td>\n",
       "      <td>0</td>\n",
       "      <td>0</td>\n",
       "      <td>0.0</td>\n",
       "    </tr>\n",
       "    <tr>\n",
       "      <th>106485</th>\n",
       "      <td>0</td>\n",
       "      <td>1.000000</td>\n",
       "      <td>23</td>\n",
       "      <td>0</td>\n",
       "      <td>0.000000</td>\n",
       "      <td>0.0</td>\n",
       "      <td>1</td>\n",
       "      <td>0</td>\n",
       "      <td>0</td>\n",
       "      <td>0</td>\n",
       "      <td>0.0</td>\n",
       "    </tr>\n",
       "    <tr>\n",
       "      <th>135797</th>\n",
       "      <td>0</td>\n",
       "      <td>0.062960</td>\n",
       "      <td>61</td>\n",
       "      <td>0</td>\n",
       "      <td>0.409749</td>\n",
       "      <td>9600.0</td>\n",
       "      <td>11</td>\n",
       "      <td>0</td>\n",
       "      <td>2</td>\n",
       "      <td>0</td>\n",
       "      <td>1.0</td>\n",
       "    </tr>\n",
       "    <tr>\n",
       "      <th>117744</th>\n",
       "      <td>0</td>\n",
       "      <td>1.000000</td>\n",
       "      <td>52</td>\n",
       "      <td>1</td>\n",
       "      <td>0.717080</td>\n",
       "      <td>2300.0</td>\n",
       "      <td>6</td>\n",
       "      <td>0</td>\n",
       "      <td>1</td>\n",
       "      <td>0</td>\n",
       "      <td>3.0</td>\n",
       "    </tr>\n",
       "    <tr>\n",
       "      <th>114614</th>\n",
       "      <td>0</td>\n",
       "      <td>0.000000</td>\n",
       "      <td>79</td>\n",
       "      <td>0</td>\n",
       "      <td>0.000000</td>\n",
       "      <td>NaN</td>\n",
       "      <td>2</td>\n",
       "      <td>0</td>\n",
       "      <td>0</td>\n",
       "      <td>0</td>\n",
       "      <td>0.0</td>\n",
       "    </tr>\n",
       "    <tr>\n",
       "      <th>10577</th>\n",
       "      <td>0</td>\n",
       "      <td>0.685157</td>\n",
       "      <td>70</td>\n",
       "      <td>1</td>\n",
       "      <td>0.019990</td>\n",
       "      <td>2000.0</td>\n",
       "      <td>2</td>\n",
       "      <td>0</td>\n",
       "      <td>0</td>\n",
       "      <td>0</td>\n",
       "      <td>0.0</td>\n",
       "    </tr>\n",
       "    <tr>\n",
       "      <th>106860</th>\n",
       "      <td>0</td>\n",
       "      <td>0.048976</td>\n",
       "      <td>28</td>\n",
       "      <td>0</td>\n",
       "      <td>0.617439</td>\n",
       "      <td>1834.0</td>\n",
       "      <td>2</td>\n",
       "      <td>0</td>\n",
       "      <td>1</td>\n",
       "      <td>0</td>\n",
       "      <td>0.0</td>\n",
       "    </tr>\n",
       "    <tr>\n",
       "      <th>41656</th>\n",
       "      <td>0</td>\n",
       "      <td>0.000000</td>\n",
       "      <td>60</td>\n",
       "      <td>0</td>\n",
       "      <td>0.170392</td>\n",
       "      <td>14583.0</td>\n",
       "      <td>12</td>\n",
       "      <td>0</td>\n",
       "      <td>1</td>\n",
       "      <td>0</td>\n",
       "      <td>2.0</td>\n",
       "    </tr>\n",
       "  </tbody>\n",
       "</table>\n",
       "</div>"
      ],
      "text/plain": [
       "        SeriousDlqin2yrs  RevolvingUtilizationOfUnsecuredLines  age  \\\n",
       "142246                 0                              0.004697   64   \n",
       "94540                  0                              0.000000   51   \n",
       "142296                 0                              0.894374   51   \n",
       "106485                 0                              1.000000   23   \n",
       "135797                 0                              0.062960   61   \n",
       "117744                 0                              1.000000   52   \n",
       "114614                 0                              0.000000   79   \n",
       "10577                  0                              0.685157   70   \n",
       "106860                 0                              0.048976   28   \n",
       "41656                  0                              0.000000   60   \n",
       "\n",
       "        NumberOfTime30-59DaysPastDueNotWorse    DebtRatio  MonthlyIncome  \\\n",
       "142246                                     0     0.085250         3260.0   \n",
       "94540                                      0     0.273830         7091.0   \n",
       "142296                                     0  1200.000000            NaN   \n",
       "106485                                     0     0.000000            0.0   \n",
       "135797                                     0     0.409749         9600.0   \n",
       "117744                                     1     0.717080         2300.0   \n",
       "114614                                     0     0.000000            NaN   \n",
       "10577                                      1     0.019990         2000.0   \n",
       "106860                                     0     0.617439         1834.0   \n",
       "41656                                      0     0.170392        14583.0   \n",
       "\n",
       "        NumberOfOpenCreditLinesAndLoans  NumberOfTimes90DaysLate  \\\n",
       "142246                                3                        0   \n",
       "94540                                 9                        0   \n",
       "142296                               11                        0   \n",
       "106485                                1                        0   \n",
       "135797                               11                        0   \n",
       "117744                                6                        0   \n",
       "114614                                2                        0   \n",
       "10577                                 2                        0   \n",
       "106860                                2                        0   \n",
       "41656                                12                        0   \n",
       "\n",
       "        NumberRealEstateLoansOrLines  NumberOfTime60-89DaysPastDueNotWorse  \\\n",
       "142246                             0                                     0   \n",
       "94540                              1                                     0   \n",
       "142296                             0                                     0   \n",
       "106485                             0                                     0   \n",
       "135797                             2                                     0   \n",
       "117744                             1                                     0   \n",
       "114614                             0                                     0   \n",
       "10577                              0                                     0   \n",
       "106860                             1                                     0   \n",
       "41656                              1                                     0   \n",
       "\n",
       "        NumberOfDependents  \n",
       "142246                 2.0  \n",
       "94540                  0.0  \n",
       "142296                 0.0  \n",
       "106485                 0.0  \n",
       "135797                 1.0  \n",
       "117744                 3.0  \n",
       "114614                 0.0  \n",
       "10577                  0.0  \n",
       "106860                 0.0  \n",
       "41656                  2.0  "
      ]
     },
     "execution_count": 23,
     "metadata": {},
     "output_type": "execute_result"
    }
   ],
   "source": [
    "data.sample(10)"
   ]
  },
  {
   "cell_type": "code",
   "execution_count": 24,
   "metadata": {},
   "outputs": [
    {
     "data": {
      "text/plain": [
       "(150000, 11)"
      ]
     },
     "execution_count": 24,
     "metadata": {},
     "output_type": "execute_result"
    }
   ],
   "source": [
    "data.shape"
   ]
  },
  {
   "cell_type": "code",
   "execution_count": 25,
   "metadata": {},
   "outputs": [
    {
     "name": "stdout",
     "output_type": "stream",
     "text": [
      "<class 'pandas.core.frame.DataFrame'>\n",
      "Int64Index: 150000 entries, 1 to 150000\n",
      "Data columns (total 11 columns):\n",
      " #   Column                                Non-Null Count   Dtype  \n",
      "---  ------                                --------------   -----  \n",
      " 0   SeriousDlqin2yrs                      150000 non-null  int64  \n",
      " 1   RevolvingUtilizationOfUnsecuredLines  150000 non-null  float64\n",
      " 2   age                                   150000 non-null  int64  \n",
      " 3   NumberOfTime30-59DaysPastDueNotWorse  150000 non-null  int64  \n",
      " 4   DebtRatio                             150000 non-null  float64\n",
      " 5   MonthlyIncome                         120269 non-null  float64\n",
      " 6   NumberOfOpenCreditLinesAndLoans       150000 non-null  int64  \n",
      " 7   NumberOfTimes90DaysLate               150000 non-null  int64  \n",
      " 8   NumberRealEstateLoansOrLines          150000 non-null  int64  \n",
      " 9   NumberOfTime60-89DaysPastDueNotWorse  150000 non-null  int64  \n",
      " 10  NumberOfDependents                    146076 non-null  float64\n",
      "dtypes: float64(4), int64(7)\n",
      "memory usage: 13.7 MB\n"
     ]
    }
   ],
   "source": [
    "data.info()"
   ]
  },
  {
   "cell_type": "code",
   "execution_count": 26,
   "metadata": {},
   "outputs": [
    {
     "name": "stdout",
     "output_type": "stream",
     "text": [
      "<class 'pandas.core.frame.DataFrame'>\n",
      "RangeIndex: 149391 entries, 0 to 149390\n",
      "Data columns (total 11 columns):\n",
      " #   Column                                Non-Null Count   Dtype  \n",
      "---  ------                                --------------   -----  \n",
      " 0   SeriousDlqin2yrs                      149391 non-null  int64  \n",
      " 1   RevolvingUtilizationOfUnsecuredLines  149391 non-null  float64\n",
      " 2   age                                   149391 non-null  int64  \n",
      " 3   NumberOfTime30-59DaysPastDueNotWorse  149391 non-null  int64  \n",
      " 4   DebtRatio                             149391 non-null  float64\n",
      " 5   MonthlyIncome                         120170 non-null  float64\n",
      " 6   NumberOfOpenCreditLinesAndLoans       149391 non-null  int64  \n",
      " 7   NumberOfTimes90DaysLate               149391 non-null  int64  \n",
      " 8   NumberRealEstateLoansOrLines          149391 non-null  int64  \n",
      " 9   NumberOfTime60-89DaysPastDueNotWorse  149391 non-null  int64  \n",
      " 10  NumberOfDependents                    145563 non-null  float64\n",
      "dtypes: float64(4), int64(7)\n",
      "memory usage: 12.5 MB\n"
     ]
    }
   ],
   "source": [
    "# 删除重复值\n",
    "data.drop_duplicates(inplace=True)#inplace=True表示替换原数据\n",
    "# 删除之后，恢复索引\n",
    "data.index=range(data.shape[0])\n",
    "data.info()"
   ]
  },
  {
   "cell_type": "code",
   "execution_count": 27,
   "metadata": {},
   "outputs": [
    {
     "data": {
      "text/plain": [
       "SeriousDlqin2yrs                        0.000000\n",
       "RevolvingUtilizationOfUnsecuredLines    0.000000\n",
       "age                                     0.000000\n",
       "NumberOfTime30-59DaysPastDueNotWorse    0.000000\n",
       "DebtRatio                               0.000000\n",
       "MonthlyIncome                           0.195601\n",
       "NumberOfOpenCreditLinesAndLoans         0.000000\n",
       "NumberOfTimes90DaysLate                 0.000000\n",
       "NumberRealEstateLoansOrLines            0.000000\n",
       "NumberOfTime60-89DaysPastDueNotWorse    0.000000\n",
       "NumberOfDependents                      0.025624\n",
       "dtype: float64"
      ]
     },
     "execution_count": 27,
     "metadata": {},
     "output_type": "execute_result"
    }
   ],
   "source": [
    "#探索缺失值\n",
    "data.isnull().sum()/data.shape[0]#得到缺失值的比例\n",
    "#data.isnull().mean()#上一行代码的另一种形式书写"
   ]
  },
  {
   "cell_type": "code",
   "execution_count": 28,
   "metadata": {},
   "outputs": [
    {
     "name": "stdout",
     "output_type": "stream",
     "text": [
      "<class 'pandas.core.frame.DataFrame'>\n",
      "RangeIndex: 149391 entries, 0 to 149390\n",
      "Data columns (total 11 columns):\n",
      " #   Column                                Non-Null Count   Dtype  \n",
      "---  ------                                --------------   -----  \n",
      " 0   SeriousDlqin2yrs                      149391 non-null  int64  \n",
      " 1   RevolvingUtilizationOfUnsecuredLines  149391 non-null  float64\n",
      " 2   age                                   149391 non-null  int64  \n",
      " 3   NumberOfTime30-59DaysPastDueNotWorse  149391 non-null  int64  \n",
      " 4   DebtRatio                             149391 non-null  float64\n",
      " 5   MonthlyIncome                         120170 non-null  float64\n",
      " 6   NumberOfOpenCreditLinesAndLoans       149391 non-null  int64  \n",
      " 7   NumberOfTimes90DaysLate               149391 non-null  int64  \n",
      " 8   NumberRealEstateLoansOrLines          149391 non-null  int64  \n",
      " 9   NumberOfTime60-89DaysPastDueNotWorse  149391 non-null  int64  \n",
      " 10  NumberOfDependents                    149391 non-null  float64\n",
      "dtypes: float64(4), int64(7)\n",
      "memory usage: 12.5 MB\n"
     ]
    },
    {
     "data": {
      "text/plain": [
       "SeriousDlqin2yrs                        0.000000\n",
       "RevolvingUtilizationOfUnsecuredLines    0.000000\n",
       "age                                     0.000000\n",
       "NumberOfTime30-59DaysPastDueNotWorse    0.000000\n",
       "DebtRatio                               0.000000\n",
       "MonthlyIncome                           0.195601\n",
       "NumberOfOpenCreditLinesAndLoans         0.000000\n",
       "NumberOfTimes90DaysLate                 0.000000\n",
       "NumberRealEstateLoansOrLines            0.000000\n",
       "NumberOfTime60-89DaysPastDueNotWorse    0.000000\n",
       "NumberOfDependents                      0.000000\n",
       "dtype: float64"
      ]
     },
     "execution_count": 28,
     "metadata": {},
     "output_type": "execute_result"
    }
   ],
   "source": [
    "data[\"NumberOfDependents\"].fillna(int(data[\"NumberOfDependents\"].mean()),inplace=True)\n",
    "#这里用均值填补家庭人数这一项 \n",
    "data.info()\n",
    "data.isnull().sum()/data.shape[0]"
   ]
  },
  {
   "cell_type": "code",
   "execution_count": 29,
   "metadata": {},
   "outputs": [],
   "source": [
    "def fill_missing_rf(X,y,to_fill):\n",
    "    \"\"\"\n",
    "    使用随机森林填补一个特征的缺失值的函数\n",
    "    参数：\n",
    "    X：要填补的特征矩阵\n",
    "    y：完整的，没有缺失值的标签\n",
    "    to_fill：字符串，要填补的那一列的名称\n",
    "    \"\"\"\n",
    "    #构建我们的新特征矩阵和新标签\n",
    "    df = X.copy()\n",
    "    fill = df.loc[:,to_fill]\n",
    "    df = pd.concat([df.loc[:,df.columns != to_fill],pd.DataFrame(y)],axis=1)\n",
    "\n",
    "    # 找出我们的训练集和测试集\n",
    "    Ytrain = fill[fill.notnull()]\n",
    "    Ytest = fill[fill.isnull()]\n",
    "    Xtrain = df.iloc[Ytrain.index,:]\n",
    "    Xtest = df.iloc[Ytest.index,:]\n",
    "\n",
    "    #用随机森林回归来填补缺失值\n",
    "    from sklearn.ensemble import RandomForestRegressor as rfr\n",
    "    rfr = rfr(n_estimators=100)\n",
    "    rfr = rfr.fit(Xtrain, Ytrain)\n",
    "    Ypredict = rfr.predict(Xtest)\n",
    "\n",
    "    return Ypredict"
   ]
  },
  {
   "cell_type": "code",
   "execution_count": 30,
   "metadata": {},
   "outputs": [
    {
     "data": {
      "text/plain": [
       "(149391, 10)"
      ]
     },
     "execution_count": 30,
     "metadata": {},
     "output_type": "execute_result"
    }
   ],
   "source": [
    "X = data.iloc[:,1:]\n",
    "y = data[\"SeriousDlqin2yrs\"]#y = data.iloc[:,0]\n",
    "X.shape#(149391, 10)"
   ]
  },
  {
   "cell_type": "code",
   "execution_count": 31,
   "metadata": {},
   "outputs": [
    {
     "data": {
      "text/plain": [
       "(29221,)"
      ]
     },
     "execution_count": 31,
     "metadata": {},
     "output_type": "execute_result"
    }
   ],
   "source": [
    "y_pred = fill_missing_rf(X,y,\"MonthlyIncome\")\n",
    "#注意可以通过以下代码检验数据是否数量相同\n",
    "data.loc[data.loc[:,\"MonthlyIncome\"].isnull(),\"MonthlyIncome\"].shape"
   ]
  },
  {
   "cell_type": "code",
   "execution_count": 33,
   "metadata": {},
   "outputs": [
    {
     "data": {
      "text/plain": [
       "29221"
      ]
     },
     "execution_count": 33,
     "metadata": {},
     "output_type": "execute_result"
    }
   ],
   "source": [
    "len(y_pred)"
   ]
  },
  {
   "cell_type": "code",
   "execution_count": 34,
   "metadata": {},
   "outputs": [
    {
     "name": "stdout",
     "output_type": "stream",
     "text": [
      "<class 'pandas.core.frame.DataFrame'>\n",
      "RangeIndex: 149391 entries, 0 to 149390\n",
      "Data columns (total 11 columns):\n",
      " #   Column                                Non-Null Count   Dtype  \n",
      "---  ------                                --------------   -----  \n",
      " 0   SeriousDlqin2yrs                      149391 non-null  int64  \n",
      " 1   RevolvingUtilizationOfUnsecuredLines  149391 non-null  float64\n",
      " 2   age                                   149391 non-null  int64  \n",
      " 3   NumberOfTime30-59DaysPastDueNotWorse  149391 non-null  int64  \n",
      " 4   DebtRatio                             149391 non-null  float64\n",
      " 5   MonthlyIncome                         149391 non-null  float64\n",
      " 6   NumberOfOpenCreditLinesAndLoans       149391 non-null  int64  \n",
      " 7   NumberOfTimes90DaysLate               149391 non-null  int64  \n",
      " 8   NumberRealEstateLoansOrLines          149391 non-null  int64  \n",
      " 9   NumberOfTime60-89DaysPastDueNotWorse  149391 non-null  int64  \n",
      " 10  NumberOfDependents                    149391 non-null  float64\n",
      "dtypes: float64(4), int64(7)\n",
      "memory usage: 12.5 MB\n"
     ]
    }
   ],
   "source": [
    "#确认我们的结果合理之后，我们就可以将数据覆盖了\n",
    "data.loc[data.loc[:,\"MonthlyIncome\"].isnull(),\"MonthlyIncome\"] = y_pred\n",
    "data.info()"
   ]
  },
  {
   "cell_type": "code",
   "execution_count": 35,
   "metadata": {},
   "outputs": [
    {
     "data": {
      "text/html": [
       "<div>\n",
       "<style scoped>\n",
       "    .dataframe tbody tr th:only-of-type {\n",
       "        vertical-align: middle;\n",
       "    }\n",
       "\n",
       "    .dataframe tbody tr th {\n",
       "        vertical-align: top;\n",
       "    }\n",
       "\n",
       "    .dataframe thead th {\n",
       "        text-align: right;\n",
       "    }\n",
       "</style>\n",
       "<table border=\"1\" class=\"dataframe\">\n",
       "  <thead>\n",
       "    <tr style=\"text-align: right;\">\n",
       "      <th></th>\n",
       "      <th>SeriousDlqin2yrs</th>\n",
       "      <th>RevolvingUtilizationOfUnsecuredLines</th>\n",
       "      <th>age</th>\n",
       "      <th>NumberOfTime30-59DaysPastDueNotWorse</th>\n",
       "      <th>DebtRatio</th>\n",
       "      <th>MonthlyIncome</th>\n",
       "      <th>NumberOfOpenCreditLinesAndLoans</th>\n",
       "      <th>NumberOfTimes90DaysLate</th>\n",
       "      <th>NumberRealEstateLoansOrLines</th>\n",
       "      <th>NumberOfTime60-89DaysPastDueNotWorse</th>\n",
       "      <th>NumberOfDependents</th>\n",
       "    </tr>\n",
       "  </thead>\n",
       "  <tbody>\n",
       "    <tr>\n",
       "      <th>count</th>\n",
       "      <td>149391.000000</td>\n",
       "      <td>149391.000000</td>\n",
       "      <td>149391.000000</td>\n",
       "      <td>149391.000000</td>\n",
       "      <td>149391.000000</td>\n",
       "      <td>1.493910e+05</td>\n",
       "      <td>149391.000000</td>\n",
       "      <td>149391.000000</td>\n",
       "      <td>149391.000000</td>\n",
       "      <td>149391.000000</td>\n",
       "      <td>149391.000000</td>\n",
       "    </tr>\n",
       "    <tr>\n",
       "      <th>mean</th>\n",
       "      <td>0.066999</td>\n",
       "      <td>6.071087</td>\n",
       "      <td>52.306237</td>\n",
       "      <td>0.393886</td>\n",
       "      <td>354.436740</td>\n",
       "      <td>5.424913e+03</td>\n",
       "      <td>8.480892</td>\n",
       "      <td>0.238120</td>\n",
       "      <td>1.022391</td>\n",
       "      <td>0.212503</td>\n",
       "      <td>0.740393</td>\n",
       "    </tr>\n",
       "    <tr>\n",
       "      <th>std</th>\n",
       "      <td>0.250021</td>\n",
       "      <td>250.263672</td>\n",
       "      <td>14.725962</td>\n",
       "      <td>3.852953</td>\n",
       "      <td>2041.843455</td>\n",
       "      <td>1.324988e+04</td>\n",
       "      <td>5.136515</td>\n",
       "      <td>3.826165</td>\n",
       "      <td>1.130196</td>\n",
       "      <td>3.810523</td>\n",
       "      <td>1.108272</td>\n",
       "    </tr>\n",
       "    <tr>\n",
       "      <th>min</th>\n",
       "      <td>0.000000</td>\n",
       "      <td>0.000000</td>\n",
       "      <td>0.000000</td>\n",
       "      <td>0.000000</td>\n",
       "      <td>0.000000</td>\n",
       "      <td>0.000000e+00</td>\n",
       "      <td>0.000000</td>\n",
       "      <td>0.000000</td>\n",
       "      <td>0.000000</td>\n",
       "      <td>0.000000</td>\n",
       "      <td>0.000000</td>\n",
       "    </tr>\n",
       "    <tr>\n",
       "      <th>25%</th>\n",
       "      <td>0.000000</td>\n",
       "      <td>0.030132</td>\n",
       "      <td>41.000000</td>\n",
       "      <td>0.000000</td>\n",
       "      <td>0.177441</td>\n",
       "      <td>1.800000e+03</td>\n",
       "      <td>5.000000</td>\n",
       "      <td>0.000000</td>\n",
       "      <td>0.000000</td>\n",
       "      <td>0.000000</td>\n",
       "      <td>0.000000</td>\n",
       "    </tr>\n",
       "    <tr>\n",
       "      <th>50%</th>\n",
       "      <td>0.000000</td>\n",
       "      <td>0.154235</td>\n",
       "      <td>52.000000</td>\n",
       "      <td>0.000000</td>\n",
       "      <td>0.368234</td>\n",
       "      <td>4.420000e+03</td>\n",
       "      <td>8.000000</td>\n",
       "      <td>0.000000</td>\n",
       "      <td>1.000000</td>\n",
       "      <td>0.000000</td>\n",
       "      <td>0.000000</td>\n",
       "    </tr>\n",
       "    <tr>\n",
       "      <th>75%</th>\n",
       "      <td>0.000000</td>\n",
       "      <td>0.556494</td>\n",
       "      <td>63.000000</td>\n",
       "      <td>0.000000</td>\n",
       "      <td>0.875279</td>\n",
       "      <td>7.416000e+03</td>\n",
       "      <td>11.000000</td>\n",
       "      <td>0.000000</td>\n",
       "      <td>2.000000</td>\n",
       "      <td>0.000000</td>\n",
       "      <td>1.000000</td>\n",
       "    </tr>\n",
       "    <tr>\n",
       "      <th>max</th>\n",
       "      <td>1.000000</td>\n",
       "      <td>50708.000000</td>\n",
       "      <td>109.000000</td>\n",
       "      <td>98.000000</td>\n",
       "      <td>329664.000000</td>\n",
       "      <td>3.008750e+06</td>\n",
       "      <td>58.000000</td>\n",
       "      <td>98.000000</td>\n",
       "      <td>54.000000</td>\n",
       "      <td>98.000000</td>\n",
       "      <td>20.000000</td>\n",
       "    </tr>\n",
       "  </tbody>\n",
       "</table>\n",
       "</div>"
      ],
      "text/plain": [
       "       SeriousDlqin2yrs  RevolvingUtilizationOfUnsecuredLines            age  \\\n",
       "count     149391.000000                         149391.000000  149391.000000   \n",
       "mean           0.066999                              6.071087      52.306237   \n",
       "std            0.250021                            250.263672      14.725962   \n",
       "min            0.000000                              0.000000       0.000000   \n",
       "25%            0.000000                              0.030132      41.000000   \n",
       "50%            0.000000                              0.154235      52.000000   \n",
       "75%            0.000000                              0.556494      63.000000   \n",
       "max            1.000000                          50708.000000     109.000000   \n",
       "\n",
       "       NumberOfTime30-59DaysPastDueNotWorse      DebtRatio  MonthlyIncome  \\\n",
       "count                         149391.000000  149391.000000   1.493910e+05   \n",
       "mean                               0.393886     354.436740   5.424913e+03   \n",
       "std                                3.852953    2041.843455   1.324988e+04   \n",
       "min                                0.000000       0.000000   0.000000e+00   \n",
       "25%                                0.000000       0.177441   1.800000e+03   \n",
       "50%                                0.000000       0.368234   4.420000e+03   \n",
       "75%                                0.000000       0.875279   7.416000e+03   \n",
       "max                               98.000000  329664.000000   3.008750e+06   \n",
       "\n",
       "       NumberOfOpenCreditLinesAndLoans  NumberOfTimes90DaysLate  \\\n",
       "count                    149391.000000            149391.000000   \n",
       "mean                          8.480892                 0.238120   \n",
       "std                           5.136515                 3.826165   \n",
       "min                           0.000000                 0.000000   \n",
       "25%                           5.000000                 0.000000   \n",
       "50%                           8.000000                 0.000000   \n",
       "75%                          11.000000                 0.000000   \n",
       "max                          58.000000                98.000000   \n",
       "\n",
       "       NumberRealEstateLoansOrLines  NumberOfTime60-89DaysPastDueNotWorse  \\\n",
       "count                 149391.000000                         149391.000000   \n",
       "mean                       1.022391                              0.212503   \n",
       "std                        1.130196                              3.810523   \n",
       "min                        0.000000                              0.000000   \n",
       "25%                        0.000000                              0.000000   \n",
       "50%                        1.000000                              0.000000   \n",
       "75%                        2.000000                              0.000000   \n",
       "max                       54.000000                             98.000000   \n",
       "\n",
       "       NumberOfDependents  \n",
       "count       149391.000000  \n",
       "mean             0.740393  \n",
       "std              1.108272  \n",
       "min              0.000000  \n",
       "25%              0.000000  \n",
       "50%              0.000000  \n",
       "75%              1.000000  \n",
       "max             20.000000  "
      ]
     },
     "execution_count": 35,
     "metadata": {},
     "output_type": "execute_result"
    }
   ],
   "source": [
    "# 统计性描述，3σ法则来找到异常值\n",
    "data.describe()"
   ]
  },
  {
   "cell_type": "code",
   "execution_count": 36,
   "metadata": {
    "scrolled": true
   },
   "outputs": [
    {
     "data": {
      "text/html": [
       "<div>\n",
       "<style scoped>\n",
       "    .dataframe tbody tr th:only-of-type {\n",
       "        vertical-align: middle;\n",
       "    }\n",
       "\n",
       "    .dataframe tbody tr th {\n",
       "        vertical-align: top;\n",
       "    }\n",
       "\n",
       "    .dataframe thead th {\n",
       "        text-align: right;\n",
       "    }\n",
       "</style>\n",
       "<table border=\"1\" class=\"dataframe\">\n",
       "  <thead>\n",
       "    <tr style=\"text-align: right;\">\n",
       "      <th></th>\n",
       "      <th>count</th>\n",
       "      <th>mean</th>\n",
       "      <th>std</th>\n",
       "      <th>min</th>\n",
       "      <th>1%</th>\n",
       "      <th>10%</th>\n",
       "      <th>25%</th>\n",
       "      <th>50%</th>\n",
       "      <th>75%</th>\n",
       "      <th>90%</th>\n",
       "      <th>99%</th>\n",
       "      <th>max</th>\n",
       "    </tr>\n",
       "  </thead>\n",
       "  <tbody>\n",
       "    <tr>\n",
       "      <th>SeriousDlqin2yrs</th>\n",
       "      <td>149391.0</td>\n",
       "      <td>0.066999</td>\n",
       "      <td>0.250021</td>\n",
       "      <td>0.0</td>\n",
       "      <td>0.0</td>\n",
       "      <td>0.000000</td>\n",
       "      <td>0.000000</td>\n",
       "      <td>0.000000</td>\n",
       "      <td>0.000000</td>\n",
       "      <td>0.000000</td>\n",
       "      <td>1.000000</td>\n",
       "      <td>1.0</td>\n",
       "    </tr>\n",
       "    <tr>\n",
       "      <th>RevolvingUtilizationOfUnsecuredLines</th>\n",
       "      <td>149391.0</td>\n",
       "      <td>6.071087</td>\n",
       "      <td>250.263672</td>\n",
       "      <td>0.0</td>\n",
       "      <td>0.0</td>\n",
       "      <td>0.003199</td>\n",
       "      <td>0.030132</td>\n",
       "      <td>0.154235</td>\n",
       "      <td>0.556494</td>\n",
       "      <td>0.978007</td>\n",
       "      <td>1.093922</td>\n",
       "      <td>50708.0</td>\n",
       "    </tr>\n",
       "    <tr>\n",
       "      <th>age</th>\n",
       "      <td>149391.0</td>\n",
       "      <td>52.306237</td>\n",
       "      <td>14.725962</td>\n",
       "      <td>0.0</td>\n",
       "      <td>24.0</td>\n",
       "      <td>33.000000</td>\n",
       "      <td>41.000000</td>\n",
       "      <td>52.000000</td>\n",
       "      <td>63.000000</td>\n",
       "      <td>72.000000</td>\n",
       "      <td>87.000000</td>\n",
       "      <td>109.0</td>\n",
       "    </tr>\n",
       "    <tr>\n",
       "      <th>NumberOfTime30-59DaysPastDueNotWorse</th>\n",
       "      <td>149391.0</td>\n",
       "      <td>0.393886</td>\n",
       "      <td>3.852953</td>\n",
       "      <td>0.0</td>\n",
       "      <td>0.0</td>\n",
       "      <td>0.000000</td>\n",
       "      <td>0.000000</td>\n",
       "      <td>0.000000</td>\n",
       "      <td>0.000000</td>\n",
       "      <td>1.000000</td>\n",
       "      <td>4.000000</td>\n",
       "      <td>98.0</td>\n",
       "    </tr>\n",
       "    <tr>\n",
       "      <th>DebtRatio</th>\n",
       "      <td>149391.0</td>\n",
       "      <td>354.436740</td>\n",
       "      <td>2041.843455</td>\n",
       "      <td>0.0</td>\n",
       "      <td>0.0</td>\n",
       "      <td>0.034991</td>\n",
       "      <td>0.177441</td>\n",
       "      <td>0.368234</td>\n",
       "      <td>0.875279</td>\n",
       "      <td>1275.000000</td>\n",
       "      <td>4985.100000</td>\n",
       "      <td>329664.0</td>\n",
       "    </tr>\n",
       "    <tr>\n",
       "      <th>MonthlyIncome</th>\n",
       "      <td>149391.0</td>\n",
       "      <td>5424.913034</td>\n",
       "      <td>13249.876433</td>\n",
       "      <td>0.0</td>\n",
       "      <td>0.0</td>\n",
       "      <td>0.180000</td>\n",
       "      <td>1800.000000</td>\n",
       "      <td>4420.000000</td>\n",
       "      <td>7416.000000</td>\n",
       "      <td>10800.000000</td>\n",
       "      <td>23250.000000</td>\n",
       "      <td>3008750.0</td>\n",
       "    </tr>\n",
       "    <tr>\n",
       "      <th>NumberOfOpenCreditLinesAndLoans</th>\n",
       "      <td>149391.0</td>\n",
       "      <td>8.480892</td>\n",
       "      <td>5.136515</td>\n",
       "      <td>0.0</td>\n",
       "      <td>0.0</td>\n",
       "      <td>3.000000</td>\n",
       "      <td>5.000000</td>\n",
       "      <td>8.000000</td>\n",
       "      <td>11.000000</td>\n",
       "      <td>15.000000</td>\n",
       "      <td>24.000000</td>\n",
       "      <td>58.0</td>\n",
       "    </tr>\n",
       "    <tr>\n",
       "      <th>NumberOfTimes90DaysLate</th>\n",
       "      <td>149391.0</td>\n",
       "      <td>0.238120</td>\n",
       "      <td>3.826165</td>\n",
       "      <td>0.0</td>\n",
       "      <td>0.0</td>\n",
       "      <td>0.000000</td>\n",
       "      <td>0.000000</td>\n",
       "      <td>0.000000</td>\n",
       "      <td>0.000000</td>\n",
       "      <td>0.000000</td>\n",
       "      <td>3.000000</td>\n",
       "      <td>98.0</td>\n",
       "    </tr>\n",
       "    <tr>\n",
       "      <th>NumberRealEstateLoansOrLines</th>\n",
       "      <td>149391.0</td>\n",
       "      <td>1.022391</td>\n",
       "      <td>1.130196</td>\n",
       "      <td>0.0</td>\n",
       "      <td>0.0</td>\n",
       "      <td>0.000000</td>\n",
       "      <td>0.000000</td>\n",
       "      <td>1.000000</td>\n",
       "      <td>2.000000</td>\n",
       "      <td>2.000000</td>\n",
       "      <td>4.000000</td>\n",
       "      <td>54.0</td>\n",
       "    </tr>\n",
       "    <tr>\n",
       "      <th>NumberOfTime60-89DaysPastDueNotWorse</th>\n",
       "      <td>149391.0</td>\n",
       "      <td>0.212503</td>\n",
       "      <td>3.810523</td>\n",
       "      <td>0.0</td>\n",
       "      <td>0.0</td>\n",
       "      <td>0.000000</td>\n",
       "      <td>0.000000</td>\n",
       "      <td>0.000000</td>\n",
       "      <td>0.000000</td>\n",
       "      <td>0.000000</td>\n",
       "      <td>2.000000</td>\n",
       "      <td>98.0</td>\n",
       "    </tr>\n",
       "    <tr>\n",
       "      <th>NumberOfDependents</th>\n",
       "      <td>149391.0</td>\n",
       "      <td>0.740393</td>\n",
       "      <td>1.108272</td>\n",
       "      <td>0.0</td>\n",
       "      <td>0.0</td>\n",
       "      <td>0.000000</td>\n",
       "      <td>0.000000</td>\n",
       "      <td>0.000000</td>\n",
       "      <td>1.000000</td>\n",
       "      <td>2.000000</td>\n",
       "      <td>4.000000</td>\n",
       "      <td>20.0</td>\n",
       "    </tr>\n",
       "  </tbody>\n",
       "</table>\n",
       "</div>"
      ],
      "text/plain": [
       "                                         count         mean           std  \\\n",
       "SeriousDlqin2yrs                      149391.0     0.066999      0.250021   \n",
       "RevolvingUtilizationOfUnsecuredLines  149391.0     6.071087    250.263672   \n",
       "age                                   149391.0    52.306237     14.725962   \n",
       "NumberOfTime30-59DaysPastDueNotWorse  149391.0     0.393886      3.852953   \n",
       "DebtRatio                             149391.0   354.436740   2041.843455   \n",
       "MonthlyIncome                         149391.0  5424.913034  13249.876433   \n",
       "NumberOfOpenCreditLinesAndLoans       149391.0     8.480892      5.136515   \n",
       "NumberOfTimes90DaysLate               149391.0     0.238120      3.826165   \n",
       "NumberRealEstateLoansOrLines          149391.0     1.022391      1.130196   \n",
       "NumberOfTime60-89DaysPastDueNotWorse  149391.0     0.212503      3.810523   \n",
       "NumberOfDependents                    149391.0     0.740393      1.108272   \n",
       "\n",
       "                                      min    1%        10%          25%  \\\n",
       "SeriousDlqin2yrs                      0.0   0.0   0.000000     0.000000   \n",
       "RevolvingUtilizationOfUnsecuredLines  0.0   0.0   0.003199     0.030132   \n",
       "age                                   0.0  24.0  33.000000    41.000000   \n",
       "NumberOfTime30-59DaysPastDueNotWorse  0.0   0.0   0.000000     0.000000   \n",
       "DebtRatio                             0.0   0.0   0.034991     0.177441   \n",
       "MonthlyIncome                         0.0   0.0   0.180000  1800.000000   \n",
       "NumberOfOpenCreditLinesAndLoans       0.0   0.0   3.000000     5.000000   \n",
       "NumberOfTimes90DaysLate               0.0   0.0   0.000000     0.000000   \n",
       "NumberRealEstateLoansOrLines          0.0   0.0   0.000000     0.000000   \n",
       "NumberOfTime60-89DaysPastDueNotWorse  0.0   0.0   0.000000     0.000000   \n",
       "NumberOfDependents                    0.0   0.0   0.000000     0.000000   \n",
       "\n",
       "                                              50%          75%           90%  \\\n",
       "SeriousDlqin2yrs                         0.000000     0.000000      0.000000   \n",
       "RevolvingUtilizationOfUnsecuredLines     0.154235     0.556494      0.978007   \n",
       "age                                     52.000000    63.000000     72.000000   \n",
       "NumberOfTime30-59DaysPastDueNotWorse     0.000000     0.000000      1.000000   \n",
       "DebtRatio                                0.368234     0.875279   1275.000000   \n",
       "MonthlyIncome                         4420.000000  7416.000000  10800.000000   \n",
       "NumberOfOpenCreditLinesAndLoans          8.000000    11.000000     15.000000   \n",
       "NumberOfTimes90DaysLate                  0.000000     0.000000      0.000000   \n",
       "NumberRealEstateLoansOrLines             1.000000     2.000000      2.000000   \n",
       "NumberOfTime60-89DaysPastDueNotWorse     0.000000     0.000000      0.000000   \n",
       "NumberOfDependents                       0.000000     1.000000      2.000000   \n",
       "\n",
       "                                               99%        max  \n",
       "SeriousDlqin2yrs                          1.000000        1.0  \n",
       "RevolvingUtilizationOfUnsecuredLines      1.093922    50708.0  \n",
       "age                                      87.000000      109.0  \n",
       "NumberOfTime30-59DaysPastDueNotWorse      4.000000       98.0  \n",
       "DebtRatio                              4985.100000   329664.0  \n",
       "MonthlyIncome                         23250.000000  3008750.0  \n",
       "NumberOfOpenCreditLinesAndLoans          24.000000       58.0  \n",
       "NumberOfTimes90DaysLate                   3.000000       98.0  \n",
       "NumberRealEstateLoansOrLines              4.000000       54.0  \n",
       "NumberOfTime60-89DaysPastDueNotWorse      2.000000       98.0  \n",
       "NumberOfDependents                        4.000000       20.0  "
      ]
     },
     "execution_count": 36,
     "metadata": {},
     "output_type": "execute_result"
    }
   ],
   "source": [
    "data.describe([0.01,0.1,0.25,.5,.75,.9,.99]).T"
   ]
  },
  {
   "cell_type": "code",
   "execution_count": 37,
   "metadata": {},
   "outputs": [],
   "source": [
    "#异常值也被我们观察到，年龄的最小值居然有0，这不符合银行的业务需求，即便是儿童账户也要至少8岁，我们可以\n",
    "# 查看一下年龄为0的人有多少\n",
    "(data[\"age\"] == 0).sum()\n",
    "\n",
    "#发现只有一个人年龄为0，可以判断这肯定是录入失误造成的，可以当成是缺失值来处理，直接删除掉这个样本\n",
    "data = data[data[\"age\"] != 0]"
   ]
  },
  {
   "cell_type": "code",
   "execution_count": 38,
   "metadata": {},
   "outputs": [
    {
     "data": {
      "text/plain": [
       "SeriousDlqin2yrs                        225\n",
       "RevolvingUtilizationOfUnsecuredLines    225\n",
       "age                                     225\n",
       "NumberOfTime30-59DaysPastDueNotWorse    225\n",
       "DebtRatio                               225\n",
       "MonthlyIncome                           225\n",
       "NumberOfOpenCreditLinesAndLoans         225\n",
       "NumberOfTimes90DaysLate                 225\n",
       "NumberRealEstateLoansOrLines            225\n",
       "NumberOfTime60-89DaysPastDueNotWorse    225\n",
       "NumberOfDependents                      225\n",
       "dtype: int64"
      ]
     },
     "execution_count": 38,
     "metadata": {},
     "output_type": "execute_result"
    }
   ],
   "source": [
    "data[data.loc[:,\"NumberOfTimes90DaysLate\"] > 90]\n",
    "data[data.loc[:,\"NumberOfTimes90DaysLate\"] > 90].count()"
   ]
  },
  {
   "cell_type": "code",
   "execution_count": 39,
   "metadata": {},
   "outputs": [
    {
     "data": {
      "text/plain": [
       "0     141107\n",
       "1       5232\n",
       "2       1555\n",
       "3        667\n",
       "4        291\n",
       "98       220\n",
       "5        131\n",
       "6         80\n",
       "7         38\n",
       "8         21\n",
       "9         19\n",
       "10         8\n",
       "11         5\n",
       "96         5\n",
       "13         4\n",
       "12         2\n",
       "14         2\n",
       "15         2\n",
       "17         1\n",
       "Name: NumberOfTimes90DaysLate, dtype: int64"
      ]
     },
     "execution_count": 39,
     "metadata": {},
     "output_type": "execute_result"
    }
   ],
   "source": [
    "data.loc[:,\"NumberOfTimes90DaysLate\"].value_counts()\n",
    " \n",
    "#有225个样本存在这样的情况，并且这些样本，我们观察一下，标签并不都是1，他们并不都是坏客户。因此，我们基\n",
    "# 本可以判断，这些样本是某种异常，应该把它们删除。\n",
    " "
   ]
  },
  {
   "cell_type": "code",
   "execution_count": 40,
   "metadata": {},
   "outputs": [
    {
     "name": "stdout",
     "output_type": "stream",
     "text": [
      "<class 'pandas.core.frame.DataFrame'>\n",
      "RangeIndex: 149165 entries, 0 to 149164\n",
      "Data columns (total 11 columns):\n",
      " #   Column                                Non-Null Count   Dtype  \n",
      "---  ------                                --------------   -----  \n",
      " 0   SeriousDlqin2yrs                      149165 non-null  int64  \n",
      " 1   RevolvingUtilizationOfUnsecuredLines  149165 non-null  float64\n",
      " 2   age                                   149165 non-null  int64  \n",
      " 3   NumberOfTime30-59DaysPastDueNotWorse  149165 non-null  int64  \n",
      " 4   DebtRatio                             149165 non-null  float64\n",
      " 5   MonthlyIncome                         149165 non-null  float64\n",
      " 6   NumberOfOpenCreditLinesAndLoans       149165 non-null  int64  \n",
      " 7   NumberOfTimes90DaysLate               149165 non-null  int64  \n",
      " 8   NumberRealEstateLoansOrLines          149165 non-null  int64  \n",
      " 9   NumberOfTime60-89DaysPastDueNotWorse  149165 non-null  int64  \n",
      " 10  NumberOfDependents                    149165 non-null  float64\n",
      "dtypes: float64(4), int64(7)\n",
      "memory usage: 12.5 MB\n"
     ]
    }
   ],
   "source": [
    "data = data[data.loc[:,\"NumberOfTimes90DaysLate\"] < 90]\n",
    "#一定要恢复索引\n",
    "data.index = range(data.shape[0])\n",
    "data.info()"
   ]
  },
  {
   "cell_type": "code",
   "execution_count": 41,
   "metadata": {},
   "outputs": [
    {
     "name": "stdout",
     "output_type": "stream",
     "text": [
      "样本个数：149165; 1占6.62%; 0占93.38%\n"
     ]
    }
   ],
   "source": [
    "#探索标签的分布\n",
    "X = data.iloc[:,1:]\n",
    "y = data.iloc[:,0]\n",
    " \n",
    "y.value_counts()#查看每一类别值得数据量，查看样本是否均衡\n",
    " \n",
    "n_sample = X.shape[0]\n",
    " \n",
    "n_1_sample = y.value_counts()[1]\n",
    "n_0_sample = y.value_counts()[0]\n",
    " \n",
    "print('样本个数：{}; 1占{:.2%}; 0占{:.2%}'.format(n_sample,n_1_sample/n_sample,n_0_sample/n_sample))\n",
    "#样本个数：149165; 1占6.62%; 0占93.38%"
   ]
  },
  {
   "cell_type": "code",
   "execution_count": 42,
   "metadata": {},
   "outputs": [],
   "source": [
    "#  样本不均衡问题\n",
    "import imblearn\n",
    "#imblearn是专门用来处理不平衡数据集的库，在处理样本不均衡问题中性能高过sklearn很多\n",
    "#imblearn里面也是一个个的类，也需要进行实例化，fit拟合，和sklearn用法相似\n",
    " \n",
    "from imblearn.over_sampling import SMOTE\n",
    " \n",
    "sm = SMOTE(random_state=42) #实例化"
   ]
  },
  {
   "cell_type": "code",
   "execution_count": 43,
   "metadata": {},
   "outputs": [],
   "source": [
    "X,y = sm.fit_sample(X,y)\n",
    " \n",
    "n_sample_ = X.shape[0]"
   ]
  },
  {
   "cell_type": "code",
   "execution_count": 44,
   "metadata": {},
   "outputs": [
    {
     "name": "stdout",
     "output_type": "stream",
     "text": [
      "样本个数：278584; 1占50.00%; 0占50.00%\n"
     ]
    }
   ],
   "source": [
    "pd.Series(y).value_counts()\n",
    " \n",
    "n_1_sample = pd.Series(y).value_counts()[1]\n",
    "n_0_sample = pd.Series(y).value_counts()[0]\n",
    " \n",
    "print('样本个数：{}; 1占{:.2%}; 0占{:.2%}'.format(n_sample_,n_1_sample/n_sample_,n_0_sample/n_sample_))\n",
    "#样本个数：278584; 1占50.00%; 0占50.00%"
   ]
  },
  {
   "cell_type": "code",
   "execution_count": 45,
   "metadata": {},
   "outputs": [],
   "source": [
    "# 分训练集和测试集\n",
    "X = pd.DataFrame(X)\n",
    "y = pd.DataFrame(y)\n",
    " \n",
    "X_train, X_vali, Y_train, Y_vali = train_test_split(X,y,test_size=0.3,random_state=1)\n",
    "model_data = pd.concat([Y_train, X_train], axis=1)#训练数据构建模型\n",
    "model_data.index = range(model_data.shape[0])\n",
    "model_data.columns = data.columns\n",
    " \n",
    "vali_data = pd.concat([Y_vali, X_vali], axis=1)#验证集\n",
    "vali_data.index = range(vali_data.shape[0])\n",
    "vali_data.columns = data.columns\n",
    " \n",
    "model_data.to_csv(r\"./data/model_data.csv\")#训练数据\n",
    "vali_data.to_csv(r\"./data/vali_data.csv\")#验证数据"
   ]
  },
  {
   "cell_type": "code",
   "execution_count": 46,
   "metadata": {},
   "outputs": [
    {
     "data": {
      "text/plain": [
       "Index(['SeriousDlqin2yrs', 'RevolvingUtilizationOfUnsecuredLines', 'age',\n",
       "       'NumberOfTime30-59DaysPastDueNotWorse', 'DebtRatio', 'MonthlyIncome',\n",
       "       'NumberOfOpenCreditLinesAndLoans', 'NumberOfTimes90DaysLate',\n",
       "       'NumberRealEstateLoansOrLines', 'NumberOfTime60-89DaysPastDueNotWorse',\n",
       "       'NumberOfDependents'],\n",
       "      dtype='object')"
      ]
     },
     "execution_count": 46,
     "metadata": {},
     "output_type": "execute_result"
    }
   ],
   "source": [
    "vali_data.columns"
   ]
  },
  {
   "cell_type": "code",
   "execution_count": 47,
   "metadata": {},
   "outputs": [
    {
     "data": {
      "text/html": [
       "<div>\n",
       "<style scoped>\n",
       "    .dataframe tbody tr th:only-of-type {\n",
       "        vertical-align: middle;\n",
       "    }\n",
       "\n",
       "    .dataframe tbody tr th {\n",
       "        vertical-align: top;\n",
       "    }\n",
       "\n",
       "    .dataframe thead th {\n",
       "        text-align: right;\n",
       "    }\n",
       "</style>\n",
       "<table border=\"1\" class=\"dataframe\">\n",
       "  <thead>\n",
       "    <tr style=\"text-align: right;\">\n",
       "      <th></th>\n",
       "      <th>SeriousDlqin2yrs</th>\n",
       "      <th>RevolvingUtilizationOfUnsecuredLines</th>\n",
       "      <th>age</th>\n",
       "      <th>NumberOfTime30-59DaysPastDueNotWorse</th>\n",
       "      <th>DebtRatio</th>\n",
       "      <th>MonthlyIncome</th>\n",
       "      <th>NumberOfOpenCreditLinesAndLoans</th>\n",
       "      <th>NumberOfTimes90DaysLate</th>\n",
       "      <th>NumberRealEstateLoansOrLines</th>\n",
       "      <th>NumberOfTime60-89DaysPastDueNotWorse</th>\n",
       "      <th>NumberOfDependents</th>\n",
       "      <th>qcut</th>\n",
       "    </tr>\n",
       "  </thead>\n",
       "  <tbody>\n",
       "    <tr>\n",
       "      <th>0</th>\n",
       "      <td>0</td>\n",
       "      <td>0.914214</td>\n",
       "      <td>58</td>\n",
       "      <td>0</td>\n",
       "      <td>4126.000000</td>\n",
       "      <td>0.000000</td>\n",
       "      <td>10</td>\n",
       "      <td>0</td>\n",
       "      <td>2</td>\n",
       "      <td>0</td>\n",
       "      <td>0.0</td>\n",
       "      <td>(56.0, 58.0]</td>\n",
       "    </tr>\n",
       "    <tr>\n",
       "      <th>1</th>\n",
       "      <td>1</td>\n",
       "      <td>1.241957</td>\n",
       "      <td>38</td>\n",
       "      <td>2</td>\n",
       "      <td>0.613092</td>\n",
       "      <td>4501.914741</td>\n",
       "      <td>7</td>\n",
       "      <td>1</td>\n",
       "      <td>1</td>\n",
       "      <td>1</td>\n",
       "      <td>1.0</td>\n",
       "      <td>(36.0, 39.0]</td>\n",
       "    </tr>\n",
       "    <tr>\n",
       "      <th>2</th>\n",
       "      <td>0</td>\n",
       "      <td>0.746895</td>\n",
       "      <td>45</td>\n",
       "      <td>0</td>\n",
       "      <td>0.769832</td>\n",
       "      <td>6264.000000</td>\n",
       "      <td>15</td>\n",
       "      <td>0</td>\n",
       "      <td>2</td>\n",
       "      <td>0</td>\n",
       "      <td>1.0</td>\n",
       "      <td>(43.0, 45.0]</td>\n",
       "    </tr>\n",
       "    <tr>\n",
       "      <th>3</th>\n",
       "      <td>0</td>\n",
       "      <td>1.000000</td>\n",
       "      <td>42</td>\n",
       "      <td>2</td>\n",
       "      <td>0.402819</td>\n",
       "      <td>3333.000000</td>\n",
       "      <td>3</td>\n",
       "      <td>0</td>\n",
       "      <td>1</td>\n",
       "      <td>0</td>\n",
       "      <td>0.0</td>\n",
       "      <td>(41.0, 43.0]</td>\n",
       "    </tr>\n",
       "    <tr>\n",
       "      <th>4</th>\n",
       "      <td>0</td>\n",
       "      <td>0.590492</td>\n",
       "      <td>42</td>\n",
       "      <td>0</td>\n",
       "      <td>0.593934</td>\n",
       "      <td>9000.000000</td>\n",
       "      <td>20</td>\n",
       "      <td>0</td>\n",
       "      <td>2</td>\n",
       "      <td>0</td>\n",
       "      <td>0.0</td>\n",
       "      <td>(41.0, 43.0]</td>\n",
       "    </tr>\n",
       "  </tbody>\n",
       "</table>\n",
       "</div>"
      ],
      "text/plain": [
       "   SeriousDlqin2yrs  RevolvingUtilizationOfUnsecuredLines  age  \\\n",
       "0                 0                              0.914214   58   \n",
       "1                 1                              1.241957   38   \n",
       "2                 0                              0.746895   45   \n",
       "3                 0                              1.000000   42   \n",
       "4                 0                              0.590492   42   \n",
       "\n",
       "   NumberOfTime30-59DaysPastDueNotWorse    DebtRatio  MonthlyIncome  \\\n",
       "0                                     0  4126.000000       0.000000   \n",
       "1                                     2     0.613092    4501.914741   \n",
       "2                                     0     0.769832    6264.000000   \n",
       "3                                     2     0.402819    3333.000000   \n",
       "4                                     0     0.593934    9000.000000   \n",
       "\n",
       "   NumberOfOpenCreditLinesAndLoans  NumberOfTimes90DaysLate  \\\n",
       "0                               10                        0   \n",
       "1                                7                        1   \n",
       "2                               15                        0   \n",
       "3                                3                        0   \n",
       "4                               20                        0   \n",
       "\n",
       "   NumberRealEstateLoansOrLines  NumberOfTime60-89DaysPastDueNotWorse  \\\n",
       "0                             2                                     0   \n",
       "1                             1                                     1   \n",
       "2                             2                                     0   \n",
       "3                             1                                     0   \n",
       "4                             2                                     0   \n",
       "\n",
       "   NumberOfDependents          qcut  \n",
       "0                 0.0  (56.0, 58.0]  \n",
       "1                 1.0  (36.0, 39.0]  \n",
       "2                 1.0  (43.0, 45.0]  \n",
       "3                 0.0  (41.0, 43.0]  \n",
       "4                 0.0  (41.0, 43.0]  "
      ]
     },
     "execution_count": 47,
     "metadata": {},
     "output_type": "execute_result"
    }
   ],
   "source": [
    "#按照等频对需要分箱的列进行分箱\n",
    "\n",
    "#“age”为例子\n",
    "model_data[\"qcut\"], updown = pd.qcut(model_data[\"age\"], retbins=True, q=20)#等频分箱\n",
    " \n",
    "\"\"\"\n",
    "pd.qcut，基于分位数的分箱函数，本质是将连续型变量离散化\n",
    "只能够处理一维数据。返回箱子的上限和下限\n",
    "参数q：要分箱的个数\n",
    "参数retbins=True来要求同时返回结构为索引为样本索引，元素为分到的箱子的Series\n",
    "现在返回两个值：每个样本属于哪个箱子，以及所有箱子的上限和下限\n",
    "\"\"\"\n",
    "#在这里时让model_data新添加一列叫做“分箱”，这一列其实就是每个样本所对应的箱子\n",
    "model_data.head()"
   ]
  },
  {
   "cell_type": "code",
   "execution_count": 48,
   "metadata": {},
   "outputs": [
    {
     "data": {
      "text/plain": [
       "array([ 21.,  28.,  31.,  34.,  36.,  39.,  41.,  43.,  45.,  47.,  48.,\n",
       "        50.,  52.,  54.,  56.,  58.,  61.,  64.,  68.,  74., 107.])"
      ]
     },
     "execution_count": 48,
     "metadata": {},
     "output_type": "execute_result"
    }
   ],
   "source": [
    "#所有箱子的上限和下限\n",
    "updown"
   ]
  },
  {
   "cell_type": "code",
   "execution_count": 50,
   "metadata": {},
   "outputs": [
    {
     "data": {
      "text/plain": [
       "[(21.0, 28.0, 4189, 7516),\n",
       " (28.0, 31.0, 3556, 5943),\n",
       " (31.0, 34.0, 4038, 6846),\n",
       " (34.0, 36.0, 2881, 4586),\n",
       " (36.0, 39.0, 5164, 7528),\n",
       " (39.0, 41.0, 3955, 5852),\n",
       " (41.0, 43.0, 4002, 5693),\n",
       " (43.0, 45.0, 4418, 5861),\n",
       " (45.0, 47.0, 4748, 6381),\n",
       " (47.0, 48.0, 2435, 3125),\n",
       " (48.0, 50.0, 4882, 6180),\n",
       " (50.0, 52.0, 4681, 5838),\n",
       " (52.0, 54.0, 4673, 5066),\n",
       " (54.0, 56.0, 4639, 4094),\n",
       " (56.0, 58.0, 4545, 3434),\n",
       " (58.0, 61.0, 6555, 4894),\n",
       " (61.0, 64.0, 6980, 3180),\n",
       " (64.0, 68.0, 6639, 2326),\n",
       " (68.0, 74.0, 6727, 1873),\n",
       " (74.0, 107.0, 7700, 1385)]"
      ]
     },
     "execution_count": 50,
     "metadata": {},
     "output_type": "execute_result"
    }
   ],
   "source": [
    "# 统计每个分箱中0和1的数量\n",
    "# 这里使用了数据透视表的功能groupby\n",
    "coount_y0 = model_data[model_data[\"SeriousDlqin2yrs\"] == 0].groupby(by=\"qcut\").count()[\"SeriousDlqin2yrs\"]\n",
    "coount_y1 = model_data[model_data[\"SeriousDlqin2yrs\"] == 1].groupby(by=\"qcut\").count()[\"SeriousDlqin2yrs\"]\n",
    "#num_bins值分别为每个区间的上界，下界，0出现的次数，1出现的次数\n",
    "num_bins = [*zip(updown,updown[1:],coount_y0,coount_y1)]\n",
    "#注意zip会按照最短列来进行结合\n",
    "num_bins"
   ]
  },
  {
   "cell_type": "code",
   "execution_count": 51,
   "metadata": {},
   "outputs": [],
   "source": [
    "# 确保每个箱子都有0 和 1\n",
    "\n",
    "for i in range(20):\n",
    "    #如果第一个组没有包含正样本或负样本，向后合并\n",
    "    if 0 in num_bins[0][2:]:\n",
    "        num_bins[0:2] = [(\n",
    "            num_bins[0][0],\n",
    "            num_bins[1][1],\n",
    "            num_bins[0][2]+num_bins[1][2],\n",
    "            num_bins[0][3]+num_bins[1][3])]\n",
    "        continue\n",
    "\n",
    "    \"\"\"\n",
    "    合并了之后，第一行的组是否一定有两种样本了呢？不一定\n",
    "    如果原本的第一组和第二组都没有包含正样本，或者都没有包含负样本，那即便合并之后，第一行的组也还是没有\n",
    "    包含两种样本\n",
    "    所以我们在每次合并完毕之后，还需要再检查，第一组是否已经包含了两种样本\n",
    "    这里使用continue跳出了本次循环，开始下一次循环，所以回到了最开始的for i in range(20), 让i+1\n",
    "    这就跳过了下面的代码，又从头开始检查，第一组是否包含了两种样本\n",
    "    如果第一组中依然没有包含两种样本，则if通过，继续合并，每合并一次就会循环检查一次，最多合并20次\n",
    "    如果第一组中已经包含两种样本，则if不通过，就开始执行下面的代码\n",
    "    \"\"\"\n",
    "    #已经确认第一组中肯定包含两种样本了，如果其他组没有包含两种样本，就向前合并\n",
    "    #此时的num_bins已经被上面的代码处理过，可能被合并过，也可能没有被合并\n",
    "    #但无论如何，我们要在num_bins中遍历，所以写成in range(len(num_bins))\n",
    "    for i in range(len(num_bins)):\n",
    "        if 0 in num_bins[i][2:]:\n",
    "            num_bins[i-1:i+1] = [(\n",
    "                num_bins[i-1][0],\n",
    "                num_bins[i][1],\n",
    "                num_bins[i-1][2]+num_bins[i][2],\n",
    "                num_bins[i-1][3]+num_bins[i][3])]\n",
    "        break\n",
    "        #如果对第一组和对后面所有组的判断中，都没有进入if去合并，则提前结束所有的循环\n",
    "    else:\n",
    "        break\n"
   ]
  },
  {
   "cell_type": "code",
   "execution_count": 52,
   "metadata": {},
   "outputs": [
    {
     "data": {
      "text/plain": [
       "[(21.0, 28.0, 4189, 7516),\n",
       " (28.0, 31.0, 3556, 5943),\n",
       " (31.0, 34.0, 4038, 6846),\n",
       " (34.0, 36.0, 2881, 4586),\n",
       " (36.0, 39.0, 5164, 7528),\n",
       " (39.0, 41.0, 3955, 5852),\n",
       " (41.0, 43.0, 4002, 5693),\n",
       " (43.0, 45.0, 4418, 5861),\n",
       " (45.0, 47.0, 4748, 6381),\n",
       " (47.0, 48.0, 2435, 3125),\n",
       " (48.0, 50.0, 4882, 6180),\n",
       " (50.0, 52.0, 4681, 5838),\n",
       " (52.0, 54.0, 4673, 5066),\n",
       " (54.0, 56.0, 4639, 4094),\n",
       " (56.0, 58.0, 4545, 3434),\n",
       " (58.0, 61.0, 6555, 4894),\n",
       " (61.0, 64.0, 6980, 3180),\n",
       " (64.0, 68.0, 6639, 2326),\n",
       " (68.0, 74.0, 6727, 1873),\n",
       " (74.0, 107.0, 7700, 1385)]"
      ]
     },
     "execution_count": 52,
     "metadata": {},
     "output_type": "execute_result"
    }
   ],
   "source": [
    "num_bins"
   ]
  },
  {
   "cell_type": "code",
   "execution_count": 53,
   "metadata": {},
   "outputs": [],
   "source": [
    "#计算WOE和BAD RATE\n",
    "#BAD RATE与bad%不是一个东西\n",
    "#BAD RATE是一个箱中，坏的样本所占的比例 (bad/total)\n",
    "#而bad%是一个箱中的坏样本占整个特征中的坏样本的比例\n",
    " \n",
    "def get_woe(num_bins):\n",
    "    # 通过 num_bins 数据计算 woe\n",
    "    columns = [\"min\",\"max\",\"count_0\",\"count_1\"]\n",
    "    df = pd.DataFrame(num_bins,columns=columns)\n",
    "\n",
    "    df[\"total\"] = df.count_0 + df.count_1#一个箱子当中所有的样本数\n",
    "    df[\"percentage\"] = df.total / df.total.sum()#一个箱子里的样本数，占所有样本的比例\n",
    "    df[\"bad_rate\"] = df.count_1 / df.total#一个箱子坏样本的数量占一个箱子里边所有样本数的比例\n",
    "    df[\"good%\"] = df.count_0/df.count_0.sum()\n",
    "    df[\"bad%\"] = df.count_1/df.count_1.sum()\n",
    "    df[\"woe\"] = np.log(df[\"good%\"] / df[\"bad%\"])\n",
    "    return df\n",
    " \n",
    "#计算IV值\n",
    "def get_iv(df):\n",
    "    rate = df[\"good%\"] - df[\"bad%\"]\n",
    "    iv = np.sum(rate * df.woe)\n",
    "    return iv"
   ]
  },
  {
   "cell_type": "code",
   "execution_count": 54,
   "metadata": {},
   "outputs": [
    {
     "data": {
      "image/png": "[encoded data removed]",
      "text/plain": [
       "<Figure size 432x288 with 1 Axes>"
      ]
     },
     "metadata": {
      "needs_background": "light"
     },
     "output_type": "display_data"
    }
   ],
   "source": [
    "num_bins_ = num_bins.copy()\n",
    " \n",
    "import matplotlib.pyplot as plt\n",
    "import scipy\n",
    " \n",
    "IV = []\n",
    "axisx = []\n",
    " \n",
    "while len(num_bins_) > 2:#大于设置的最低分箱个数\n",
    "    pvs = []\n",
    "    #获取 num_bins_两两之间的卡方检验的置信度（或卡方值）\n",
    "    for i in range(len(num_bins_)-1):\n",
    "        x1 = num_bins_[i][2:]\n",
    "        x2 = num_bins_[i+1][2: ]\n",
    "        # 0 返回 chi2 值，1 返回 p 值。\n",
    "        pv = scipy.stats.chi2_contingency([x1,x2])[1]#p值\n",
    "        # chi2 = scipy.stats.chi2_contingency([x1,x2])[0]#计算卡方值\n",
    "        pvs.append(pv)\n",
    "        \n",
    "    # 通过 p 值进行处理。合并 p 值最大的两组\n",
    "    i = pvs.index(max(pvs))\n",
    "    num_bins_[i:i+2] = [(\n",
    "            num_bins_[i][0],\n",
    "            num_bins_[i+1][1],\n",
    "            num_bins_[i][2]+num_bins_[i+1][2],\n",
    "            num_bins_[i][3]+num_bins_[i+1][3])]\n",
    "    \n",
    "    bins_df = get_woe(num_bins_)\n",
    "    axisx.append(len(num_bins_))\n",
    "    IV.append(get_iv(bins_df))\n",
    "    \n",
    "plt.figure()\n",
    "plt.plot(axisx,IV)\n",
    "plt.xticks(axisx)\n",
    "plt.xlabel(\"number of box\")\n",
    "plt.ylabel(\"IV\")\n",
    "plt.show()"
   ]
  },
  {
   "cell_type": "markdown",
   "metadata": {},
   "source": [
    "选择转折点处，也就是下坠最快的折线点，所以这里对于age来说选择箱数为6"
   ]
  },
  {
   "cell_type": "code",
   "execution_count": 55,
   "metadata": {},
   "outputs": [
    {
     "data": {
      "text/plain": [
       "[(21.0, 43.0, 27785, 43964),\n",
       " (43.0, 54.0, 25837, 32451),\n",
       " (54.0, 61.0, 15739, 12422),\n",
       " (61.0, 64.0, 6980, 3180),\n",
       " (64.0, 74.0, 13366, 4199),\n",
       " (74.0, 107.0, 7700, 1385)]"
      ]
     },
     "execution_count": 55,
     "metadata": {},
     "output_type": "execute_result"
    }
   ],
   "source": [
    "def get_bin(num_bins_,n):\n",
    "    while len(num_bins_) > n:\n",
    "        pvs = []\n",
    "        for i in range(len(num_bins_)-1):\n",
    "            x1 = num_bins_[i][2:]\n",
    "            x2 = num_bins_[i+1][2:]\n",
    "            pv = scipy.stats.chi2_contingency([x1,x2])[1]\n",
    "            # chi2 = scipy.stats.chi2_contingency([x1,x2])[0]\n",
    "            pvs.append(pv)\n",
    "\n",
    "        i = pvs.index(max(pvs))\n",
    "        num_bins_[i:i+2] = [(\n",
    "                num_bins_[i][0],\n",
    "                num_bins_[i+1][1],\n",
    "                num_bins_[i][2]+num_bins_[i+1][2],\n",
    "                num_bins_[i][3]+num_bins_[i+1][3])]\n",
    "    return num_bins_\n",
    " \n",
    "afterbins = get_bin(num_bins,6)\n",
    " \n",
    "afterbins"
   ]
  },
  {
   "cell_type": "code",
   "execution_count": 56,
   "metadata": {},
   "outputs": [
    {
     "data": {
      "text/html": [
       "<div>\n",
       "<style scoped>\n",
       "    .dataframe tbody tr th:only-of-type {\n",
       "        vertical-align: middle;\n",
       "    }\n",
       "\n",
       "    .dataframe tbody tr th {\n",
       "        vertical-align: top;\n",
       "    }\n",
       "\n",
       "    .dataframe thead th {\n",
       "        text-align: right;\n",
       "    }\n",
       "</style>\n",
       "<table border=\"1\" class=\"dataframe\">\n",
       "  <thead>\n",
       "    <tr style=\"text-align: right;\">\n",
       "      <th></th>\n",
       "      <th>min</th>\n",
       "      <th>max</th>\n",
       "      <th>count_0</th>\n",
       "      <th>count_1</th>\n",
       "      <th>total</th>\n",
       "      <th>percentage</th>\n",
       "      <th>bad_rate</th>\n",
       "      <th>good%</th>\n",
       "      <th>bad%</th>\n",
       "      <th>woe</th>\n",
       "    </tr>\n",
       "  </thead>\n",
       "  <tbody>\n",
       "    <tr>\n",
       "      <th>0</th>\n",
       "      <td>21.0</td>\n",
       "      <td>43.0</td>\n",
       "      <td>27785</td>\n",
       "      <td>43964</td>\n",
       "      <td>71749</td>\n",
       "      <td>0.367928</td>\n",
       "      <td>0.612747</td>\n",
       "      <td>0.285246</td>\n",
       "      <td>0.450446</td>\n",
       "      <td>-0.456885</td>\n",
       "    </tr>\n",
       "    <tr>\n",
       "      <th>1</th>\n",
       "      <td>43.0</td>\n",
       "      <td>54.0</td>\n",
       "      <td>25837</td>\n",
       "      <td>32451</td>\n",
       "      <td>58288</td>\n",
       "      <td>0.298901</td>\n",
       "      <td>0.556736</td>\n",
       "      <td>0.265248</td>\n",
       "      <td>0.332486</td>\n",
       "      <td>-0.225934</td>\n",
       "    </tr>\n",
       "    <tr>\n",
       "      <th>2</th>\n",
       "      <td>54.0</td>\n",
       "      <td>61.0</td>\n",
       "      <td>15739</td>\n",
       "      <td>12422</td>\n",
       "      <td>28161</td>\n",
       "      <td>0.144409</td>\n",
       "      <td>0.441106</td>\n",
       "      <td>0.161580</td>\n",
       "      <td>0.127273</td>\n",
       "      <td>0.238662</td>\n",
       "    </tr>\n",
       "    <tr>\n",
       "      <th>3</th>\n",
       "      <td>61.0</td>\n",
       "      <td>64.0</td>\n",
       "      <td>6980</td>\n",
       "      <td>3180</td>\n",
       "      <td>10160</td>\n",
       "      <td>0.052100</td>\n",
       "      <td>0.312992</td>\n",
       "      <td>0.071658</td>\n",
       "      <td>0.032582</td>\n",
       "      <td>0.788157</td>\n",
       "    </tr>\n",
       "    <tr>\n",
       "      <th>4</th>\n",
       "      <td>64.0</td>\n",
       "      <td>74.0</td>\n",
       "      <td>13366</td>\n",
       "      <td>4199</td>\n",
       "      <td>17565</td>\n",
       "      <td>0.090073</td>\n",
       "      <td>0.239055</td>\n",
       "      <td>0.137218</td>\n",
       "      <td>0.043022</td>\n",
       "      <td>1.159857</td>\n",
       "    </tr>\n",
       "    <tr>\n",
       "      <th>5</th>\n",
       "      <td>74.0</td>\n",
       "      <td>107.0</td>\n",
       "      <td>7700</td>\n",
       "      <td>1385</td>\n",
       "      <td>9085</td>\n",
       "      <td>0.046588</td>\n",
       "      <td>0.152449</td>\n",
       "      <td>0.079050</td>\n",
       "      <td>0.014190</td>\n",
       "      <td>1.717510</td>\n",
       "    </tr>\n",
       "  </tbody>\n",
       "</table>\n",
       "</div>"
      ],
      "text/plain": [
       "    min    max  count_0  count_1  total  percentage  bad_rate     good%  \\\n",
       "0  21.0   43.0    27785    43964  71749    0.367928  0.612747  0.285246   \n",
       "1  43.0   54.0    25837    32451  58288    0.298901  0.556736  0.265248   \n",
       "2  54.0   61.0    15739    12422  28161    0.144409  0.441106  0.161580   \n",
       "3  61.0   64.0     6980     3180  10160    0.052100  0.312992  0.071658   \n",
       "4  64.0   74.0    13366     4199  17565    0.090073  0.239055  0.137218   \n",
       "5  74.0  107.0     7700     1385   9085    0.046588  0.152449  0.079050   \n",
       "\n",
       "       bad%       woe  \n",
       "0  0.450446 -0.456885  \n",
       "1  0.332486 -0.225934  \n",
       "2  0.127273  0.238662  \n",
       "3  0.032582  0.788157  \n",
       "4  0.043022  1.159857  \n",
       "5  0.014190  1.717510  "
      ]
     },
     "execution_count": 56,
     "metadata": {},
     "output_type": "execute_result"
    }
   ],
   "source": [
    "bins_df = get_woe(num_bins)\n",
    " \n",
    "bins_df\n",
    "#希望每组的bad_rate相差越大越好；\n",
    "# woe差异越大越好，应该具有单调性，随着箱的增加，要么由正到负，要么由负到正，只能有一个转折过程；\n",
    "# 如果woe值大小变化是有两个转折，比如呈现w型，证明分箱过程有问题\n",
    "# num_bins保留的信息越多越好"
   ]
  },
  {
   "cell_type": "code",
   "execution_count": 57,
   "metadata": {},
   "outputs": [],
   "source": [
    "def graphforbestbin(DF, X, Y, n=5,q=20,graph=True):\n",
    "    '''\n",
    "    自动最优分箱函数，基于卡方检验的分箱\n",
    "\n",
    "    参数：\n",
    "    DF: 需要输入的数据\n",
    "    X: 需要分箱的列名\n",
    "    Y: 分箱数据对应的标签 Y 列名\n",
    "    n: 保留分箱个数\n",
    "    q: 初始分箱的个数\n",
    "    graph: 是否要画出IV图像\n",
    "\n",
    "    区间为前开后闭 (]\n",
    "\n",
    "    '''\n",
    "    \n",
    "    DF = DF[[X,Y]].copy()\n",
    "\n",
    "    DF[\"qcut\"],bins = pd.qcut(DF[X], retbins=True, q=q,duplicates=\"drop\")\n",
    "    coount_y0 = DF.loc[DF[Y]==0].groupby(by=\"qcut\").count()[Y]\n",
    "    coount_y1 = DF.loc[DF[Y]==1].groupby(by=\"qcut\").count()[Y]\n",
    "    num_bins = [*zip(bins,bins[1:],coount_y0,coount_y1)]\n",
    "\n",
    "    for i in range(q):\n",
    "        if 0 in num_bins[0][2:]:\n",
    "            num_bins[0:2] = [(\n",
    "                num_bins[0][0],\n",
    "                num_bins[1][1],\n",
    "                num_bins[0][2]+num_bins[1][2],\n",
    "                num_bins[0][3]+num_bins[1][3])]\n",
    "            continue\n",
    "\n",
    "        for i in range(len(num_bins)):\n",
    "            if 0 in num_bins[i][2:]:\n",
    "                num_bins[i-1:i+1] = [(\n",
    "                    num_bins[i-1][0],\n",
    "                    num_bins[i][1],\n",
    "                    num_bins[i-1][2]+num_bins[i][2],\n",
    "                    num_bins[i-1][3]+num_bins[i][3])]\n",
    "                break\n",
    "        else:\n",
    "            break\n",
    "\n",
    "    def get_woe(num_bins):\n",
    "        columns = [\"min\",\"max\",\"count_0\",\"count_1\"]\n",
    "        df = pd.DataFrame(num_bins,columns=columns)\n",
    "        df[\"total\"] = df.count_0 + df.count_1\n",
    "        df[\"percentage\"] = df.total / df.total.sum()\n",
    "        df[\"bad_rate\"] = df.count_1 / df.total\n",
    "        df[\"good%\"] = df.count_0/df.count_0.sum()\n",
    "        df[\"bad%\"] = df.count_1/df.count_1.sum()\n",
    "        df[\"woe\"] = np.log(df[\"good%\"] / df[\"bad%\"])\n",
    "        return df\n",
    "\n",
    "    def get_iv(df):\n",
    "        rate = df[\"good%\"] - df[\"bad%\"]\n",
    "        iv = np.sum(rate * df.woe)\n",
    "        return iv\n",
    "\n",
    "    IV = []\n",
    "    axisx = []\n",
    "    while len(num_bins) > n:\n",
    "        pvs = []\n",
    "        for i in range(len(num_bins)-1):\n",
    "            x1 = num_bins[i][2:]\n",
    "            x2 = num_bins[i+1][2:]\n",
    "            pv = scipy.stats.chi2_contingency([x1,x2])[1]\n",
    "            pvs.append(pv)\n",
    "\n",
    "        i = pvs.index(max(pvs))\n",
    "        num_bins[i:i+2] = [(\n",
    "            num_bins[i][0],\n",
    "            num_bins[i+1][1],\n",
    "            num_bins[i][2]+num_bins[i+1][2],\n",
    "            num_bins[i][3]+num_bins[i+1][3])]\n",
    "\n",
    "        bins_df = pd.DataFrame(get_woe(num_bins))\n",
    "        axisx.append(len(num_bins))\n",
    "        IV.append(get_iv(bins_df))\n",
    "        \n",
    "    if graph:\n",
    "        plt.figure()\n",
    "        plt.plot(axisx,IV)\n",
    "        plt.xticks(axisx)\n",
    "        plt.xlabel(\"number of box\")\n",
    "        plt.ylabel(\"IV\")\n",
    "        plt.show()\n",
    "    return bins_df"
   ]
  },
  {
   "cell_type": "code",
   "execution_count": 58,
   "metadata": {},
   "outputs": [
    {
     "name": "stdout",
     "output_type": "stream",
     "text": [
      "RevolvingUtilizationOfUnsecuredLines\n"
     ]
    },
    {
     "data": {
      "image/png": "[encoded data removed]",
      "text/plain": [
       "<Figure size 432x288 with 1 Axes>"
      ]
     },
     "metadata": {
      "needs_background": "light"
     },
     "output_type": "display_data"
    },
    {
     "name": "stdout",
     "output_type": "stream",
     "text": [
      "age\n"
     ]
    },
    {
     "data": {
      "image/png": "[encoded data removed]",
      "text/plain": [
       "<Figure size 432x288 with 1 Axes>"
      ]
     },
     "metadata": {
      "needs_background": "light"
     },
     "output_type": "display_data"
    },
    {
     "name": "stdout",
     "output_type": "stream",
     "text": [
      "NumberOfTime30-59DaysPastDueNotWorse\n"
     ]
    },
    {
     "data": {
      "image/png": "[encoded data removed]",
      "text/plain": [
       "<Figure size 432x288 with 1 Axes>"
      ]
     },
     "metadata": {
      "needs_background": "light"
     },
     "output_type": "display_data"
    },
    {
     "name": "stdout",
     "output_type": "stream",
     "text": [
      "DebtRatio\n"
     ]
    },
    {
     "data": {
      "image/png": "[encoded data removed]",
      "text/plain": [
       "<Figure size 432x288 with 1 Axes>"
      ]
     },
     "metadata": {
      "needs_background": "light"
     },
     "output_type": "display_data"
    },
    {
     "name": "stdout",
     "output_type": "stream",
     "text": [
      "MonthlyIncome\n"
     ]
    },
    {
     "data": {
      "image/png": "[encoded data removed]",
      "text/plain": [
       "<Figure size 432x288 with 1 Axes>"
      ]
     },
     "metadata": {
      "needs_background": "light"
     },
     "output_type": "display_data"
    },
    {
     "name": "stdout",
     "output_type": "stream",
     "text": [
      "NumberOfOpenCreditLinesAndLoans\n"
     ]
    },
    {
     "data": {
      "image/png": "[encoded data removed]",
      "text/plain": [
       "<Figure size 432x288 with 1 Axes>"
      ]
     },
     "metadata": {
      "needs_background": "light"
     },
     "output_type": "display_data"
    },
    {
     "name": "stdout",
     "output_type": "stream",
     "text": [
      "NumberOfTimes90DaysLate\n"
     ]
    },
    {
     "data": {
      "image/png": "[encoded data removed]",
      "text/plain": [
       "<Figure size 432x288 with 1 Axes>"
      ]
     },
     "metadata": {
      "needs_background": "light"
     },
     "output_type": "display_data"
    },
    {
     "name": "stdout",
     "output_type": "stream",
     "text": [
      "NumberRealEstateLoansOrLines\n"
     ]
    },
    {
     "data": {
      "image/png": "[encoded data removed]",
      "text/plain": [
       "<Figure size 432x288 with 1 Axes>"
      ]
     },
     "metadata": {
      "needs_background": "light"
     },
     "output_type": "display_data"
    },
    {
     "name": "stdout",
     "output_type": "stream",
     "text": [
      "NumberOfTime60-89DaysPastDueNotWorse\n"
     ]
    },
    {
     "data": {
      "image/png": "[encoded data removed]",
      "text/plain": [
       "<Figure size 432x288 with 1 Axes>"
      ]
     },
     "metadata": {
      "needs_background": "light"
     },
     "output_type": "display_data"
    },
    {
     "ename": "UnboundLocalError",
     "evalue": "local variable 'bins_df' referenced before assignment",
     "output_type": "error",
     "traceback": [
      "\u001b[0;31m---------------------------------------------------------------------------\u001b[0m",
      "\u001b[0;31mUnboundLocalError\u001b[0m                         Traceback (most recent call last)",
      "\u001b[0;32m<ipython-input-58-be825b177f65>\u001b[0m in \u001b[0;36m<module>\u001b[0;34m()\u001b[0m\n\u001b[1;32m      3\u001b[0m \u001b[0;32mfor\u001b[0m \u001b[0mi\u001b[0m \u001b[0;32min\u001b[0m \u001b[0mmodel_data\u001b[0m\u001b[0;34m.\u001b[0m\u001b[0mcolumns\u001b[0m\u001b[0;34m[\u001b[0m\u001b[0;36m1\u001b[0m\u001b[0;34m:\u001b[0m\u001b[0;34m-\u001b[0m\u001b[0;36m1\u001b[0m\u001b[0;34m]\u001b[0m\u001b[0;34m:\u001b[0m\u001b[0;34m\u001b[0m\u001b[0;34m\u001b[0m\u001b[0m\n\u001b[1;32m      4\u001b[0m     \u001b[0mprint\u001b[0m\u001b[0;34m(\u001b[0m\u001b[0mi\u001b[0m\u001b[0;34m)\u001b[0m\u001b[0;34m\u001b[0m\u001b[0;34m\u001b[0m\u001b[0m\n\u001b[0;32m----> 5\u001b[0;31m     \u001b[0mgraphforbestbin\u001b[0m\u001b[0;34m(\u001b[0m\u001b[0mmodel_data\u001b[0m\u001b[0;34m,\u001b[0m\u001b[0mi\u001b[0m\u001b[0;34m,\u001b[0m\u001b[0;34m\"SeriousDlqin2yrs\"\u001b[0m\u001b[0;34m,\u001b[0m\u001b[0mn\u001b[0m\u001b[0;34m=\u001b[0m\u001b[0;36m2\u001b[0m\u001b[0;34m,\u001b[0m\u001b[0mq\u001b[0m\u001b[0;34m=\u001b[0m\u001b[0;36m20\u001b[0m\u001b[0;34m)\u001b[0m\u001b[0;34m\u001b[0m\u001b[0;34m\u001b[0m\u001b[0m\n\u001b[0m",
      "\u001b[0;32m<ipython-input-57-ad37a9cbd059>\u001b[0m in \u001b[0;36mgraphforbestbin\u001b[0;34m(DF, X, Y, n, q, graph)\u001b[0m\n\u001b[1;32m     86\u001b[0m         \u001b[0mplt\u001b[0m\u001b[0;34m.\u001b[0m\u001b[0mylabel\u001b[0m\u001b[0;34m(\u001b[0m\u001b[0;34m\"IV\"\u001b[0m\u001b[0;34m)\u001b[0m\u001b[0;34m\u001b[0m\u001b[0;34m\u001b[0m\u001b[0m\n\u001b[1;32m     87\u001b[0m         \u001b[0mplt\u001b[0m\u001b[0;34m.\u001b[0m\u001b[0mshow\u001b[0m\u001b[0;34m(\u001b[0m\u001b[0;34m)\u001b[0m\u001b[0;34m\u001b[0m\u001b[0;34m\u001b[0m\u001b[0m\n\u001b[0;32m---> 88\u001b[0;31m     \u001b[0;32mreturn\u001b[0m \u001b[0mbins_df\u001b[0m\u001b[0;34m\u001b[0m\u001b[0;34m\u001b[0m\u001b[0m\n\u001b[0m",
      "\u001b[0;31mUnboundLocalError\u001b[0m: local variable 'bins_df' referenced before assignment"
     ]
    }
   ],
   "source": [
    "model_data.columns\n",
    "\n",
    "for i in model_data.columns[1:-1]:\n",
    "    print(i)\n",
    "    graphforbestbin(model_data,i,\"SeriousDlqin2yrs\",n=2,q=20)"
   ]
  },
  {
   "cell_type": "code",
   "execution_count": 59,
   "metadata": {},
   "outputs": [],
   "source": [
    "auto_col_bins = {\"RevolvingUtilizationOfUnsecuredLines\":6,\n",
    "                \"age\":5,\n",
    "                \"DebtRatio\":4,\n",
    "                \"MonthlyIncome\":3,\n",
    "                \"NumberOfOpenCreditLinesAndLoans\":5}\n",
    " \n",
    "#不能使用自动分箱的变量\n",
    "hand_bins = {\"NumberOfTime30-59DaysPastDueNotWorse\":[0,1,2,13]\n",
    "            ,\"NumberOfTimes90DaysLate\":[0,1,2,17]\n",
    "            ,\"NumberRealEstateLoansOrLines\":[0,1,2,4,54]\n",
    "            ,\"NumberOfTime60-89DaysPastDueNotWorse\":[0,1,2,8]\n",
    "            ,\"NumberOfDependents\":[0,1,2,3]}\n",
    " \n",
    "#保证区间覆盖使用 np.inf替换最大值，用-np.inf替换最小值 \n",
    "#原因：比如一些新的值出现，例如家庭人数为30，以前没出现过，改成范围为极大值之后，这些新值就都能分到箱里边了\n",
    "hand_bins = {k:[-np.inf,*v[:-1],np.inf] for k,v in hand_bins.items()}"
   ]
  },
  {
   "cell_type": "code",
   "execution_count": 60,
   "metadata": {},
   "outputs": [
    {
     "data": {
      "text/plain": [
       "{'DebtRatio': [-inf,\n",
       "  0.017700475250000004,\n",
       "  0.5037904295132346,\n",
       "  1.5164460897849306,\n",
       "  inf],\n",
       " 'MonthlyIncome': [-inf, 0.1, 5583.0, inf],\n",
       " 'NumberOfDependents': [-inf, 0, 1, 2, inf],\n",
       " 'NumberOfOpenCreditLinesAndLoans': [-inf, 1.0, 3.0, 5.0, 17.0, inf],\n",
       " 'NumberOfTime30-59DaysPastDueNotWorse': [-inf, 0, 1, 2, inf],\n",
       " 'NumberOfTime60-89DaysPastDueNotWorse': [-inf, 0, 1, 2, inf],\n",
       " 'NumberOfTimes90DaysLate': [-inf, 0, 1, 2, inf],\n",
       " 'NumberRealEstateLoansOrLines': [-inf, 0, 1, 2, 4, inf],\n",
       " 'RevolvingUtilizationOfUnsecuredLines': [-inf,\n",
       "  0.09965610424999999,\n",
       "  0.3809696413500001,\n",
       "  0.7227679085285763,\n",
       "  0.9828321940366397,\n",
       "  0.9999998999999999,\n",
       "  inf],\n",
       " 'age': [-inf, 43.0, 54.0, 61.0, 74.0, inf]}"
      ]
     },
     "execution_count": 60,
     "metadata": {},
     "output_type": "execute_result"
    }
   ],
   "source": [
    "bins_of_col = {}\n",
    " \n",
    "# 生成自动分箱的分箱区间和分箱后的 IV 值\n",
    " \n",
    "for col in auto_col_bins:\n",
    "    bins_df = graphforbestbin(model_data,col\n",
    "                             ,\"SeriousDlqin2yrs\"\n",
    "                             ,n=auto_col_bins[col]\n",
    "                             #使用字典的性质来取出每个特征所对应的箱的数量\n",
    "                             ,q=20\n",
    "                             ,graph=False)\n",
    "    bins_list = sorted(set(bins_df[\"min\"]).union(bins_df[\"max\"]))\n",
    "    #保证区间覆盖使用 np.inf 替换最大值 -np.inf 替换最小值\n",
    "    bins_list[0],bins_list[-1] = -np.inf,np.inf\n",
    "    bins_of_col[col] = bins_list\n",
    "    \n",
    "#合并手动分箱数据    \n",
    "bins_of_col.update(hand_bins)\n",
    " \n",
    "bins_of_col"
   ]
  },
  {
   "cell_type": "code",
   "execution_count": 61,
   "metadata": {},
   "outputs": [
    {
     "data": {
      "text/html": [
       "<div>\n",
       "<style scoped>\n",
       "    .dataframe tbody tr th:only-of-type {\n",
       "        vertical-align: middle;\n",
       "    }\n",
       "\n",
       "    .dataframe tbody tr th {\n",
       "        vertical-align: top;\n",
       "    }\n",
       "\n",
       "    .dataframe thead th {\n",
       "        text-align: right;\n",
       "    }\n",
       "</style>\n",
       "<table border=\"1\" class=\"dataframe\">\n",
       "  <thead>\n",
       "    <tr style=\"text-align: right;\">\n",
       "      <th>SeriousDlqin2yrs</th>\n",
       "      <th>0</th>\n",
       "      <th>1</th>\n",
       "      <th>woe</th>\n",
       "    </tr>\n",
       "    <tr>\n",
       "      <th>cut</th>\n",
       "      <th></th>\n",
       "      <th></th>\n",
       "      <th></th>\n",
       "    </tr>\n",
       "  </thead>\n",
       "  <tbody>\n",
       "    <tr>\n",
       "      <th>(-inf, 48.5]</th>\n",
       "      <td>39386</td>\n",
       "      <td>59331</td>\n",
       "      <td>-0.407732</td>\n",
       "    </tr>\n",
       "    <tr>\n",
       "      <th>(48.5, 58.757]</th>\n",
       "      <td>23420</td>\n",
       "      <td>24612</td>\n",
       "      <td>-0.047654</td>\n",
       "    </tr>\n",
       "    <tr>\n",
       "      <th>(58.757, 64.0]</th>\n",
       "      <td>13535</td>\n",
       "      <td>8074</td>\n",
       "      <td>0.518620</td>\n",
       "    </tr>\n",
       "    <tr>\n",
       "      <th>(64.0, 74.0]</th>\n",
       "      <td>13366</td>\n",
       "      <td>4199</td>\n",
       "      <td>1.159857</td>\n",
       "    </tr>\n",
       "    <tr>\n",
       "      <th>(74.0, inf]</th>\n",
       "      <td>7700</td>\n",
       "      <td>1385</td>\n",
       "      <td>1.717510</td>\n",
       "    </tr>\n",
       "  </tbody>\n",
       "</table>\n",
       "</div>"
      ],
      "text/plain": [
       "SeriousDlqin2yrs      0      1       woe\n",
       "cut                                     \n",
       "(-inf, 48.5]      39386  59331 -0.407732\n",
       "(48.5, 58.757]    23420  24612 -0.047654\n",
       "(58.757, 64.0]    13535   8074  0.518620\n",
       "(64.0, 74.0]      13366   4199  1.159857\n",
       "(74.0, inf]        7700   1385  1.717510"
      ]
     },
     "execution_count": 61,
     "metadata": {},
     "output_type": "execute_result"
    }
   ],
   "source": [
    "data = model_data.copy()\n",
    " \n",
    "#函数pd.cut，可以根据已知的分箱间隔把数据分箱\n",
    "#参数为 pd.cut(数据，以列表表示的分箱间隔)\n",
    "data = data[[\"age\",\"SeriousDlqin2yrs\"]].copy()\n",
    " \n",
    "data[\"cut\"] = pd.cut(data[\"age\"],[-np.inf, 48.49986200790144, 58.757170160044694, 64.0, 74.0, np.inf])\n",
    " \n",
    "data.head()\n",
    "\n",
    "#将数据按分箱结果聚合，并取出其中的标签值\n",
    "data.groupby(\"cut\")[\"SeriousDlqin2yrs\"].value_counts()\n",
    " \n",
    "#使用unstack()来将树状结构变成表状结构\n",
    "data.groupby(\"cut\")[\"SeriousDlqin2yrs\"].value_counts().unstack()\n",
    " \n",
    "bins_df = data.groupby(\"cut\")[\"SeriousDlqin2yrs\"].value_counts().unstack()\n",
    " \n",
    "bins_df[\"woe\"] = np.log((bins_df[0]/bins_df[0].sum())/(bins_df[1]/bins_df[1].sum()))\n",
    "\n",
    "bins_df"
   ]
  },
  {
   "cell_type": "code",
   "execution_count": 62,
   "metadata": {},
   "outputs": [
    {
     "data": {
      "text/plain": [
       "{'DebtRatio': cut\n",
       " (-inf, 0.0177]     1.510146\n",
       " (0.0177, 0.504]   -0.013003\n",
       " (0.504, 1.516]    -0.467731\n",
       " (1.516, inf]       0.176163\n",
       " dtype: float64, 'MonthlyIncome': cut\n",
       " (-inf, 0.1]      1.348712\n",
       " (0.1, 5583.0]   -0.235982\n",
       " (5583.0, inf]    0.232476\n",
       " dtype: float64, 'NumberOfDependents': cut\n",
       " (-inf, 0.0]    0.625096\n",
       " (0.0, 1.0]    -0.585375\n",
       " (1.0, 2.0]    -0.522421\n",
       " (2.0, inf]    -0.490302\n",
       " dtype: float64, 'NumberOfOpenCreditLinesAndLoans': cut\n",
       " (-inf, 1.0]   -0.835018\n",
       " (1.0, 3.0]    -0.341646\n",
       " (3.0, 5.0]    -0.064318\n",
       " (5.0, 17.0]    0.125808\n",
       " (17.0, inf]    0.482049\n",
       " dtype: float64, 'NumberOfTime30-59DaysPastDueNotWorse': cut\n",
       " (-inf, 0.0]    0.356425\n",
       " (0.0, 1.0]    -0.887979\n",
       " (1.0, 2.0]    -1.366286\n",
       " (2.0, inf]    -1.523437\n",
       " dtype: float64, 'NumberOfTime60-89DaysPastDueNotWorse': cut\n",
       " (-inf, 0.0]    0.123733\n",
       " (0.0, 1.0]    -1.376071\n",
       " (1.0, 2.0]    -1.736123\n",
       " (2.0, inf]    -1.792182\n",
       " dtype: float64, 'NumberOfTimes90DaysLate': cut\n",
       " (-inf, 0.0]    0.235184\n",
       " (0.0, 1.0]    -1.749760\n",
       " (1.0, 2.0]    -2.264773\n",
       " (2.0, inf]    -2.358919\n",
       " dtype: float64, 'NumberRealEstateLoansOrLines': cut\n",
       " (-inf, 0.0]   -0.399873\n",
       " (0.0, 1.0]     0.200596\n",
       " (1.0, 2.0]     0.628844\n",
       " (2.0, 4.0]     0.385187\n",
       " (4.0, inf]    -0.326559\n",
       " dtype: float64, 'RevolvingUtilizationOfUnsecuredLines': cut\n",
       " (-inf, 0.0997]     2.198348\n",
       " (0.0997, 0.381]    0.482815\n",
       " (0.381, 0.723]    -0.621826\n",
       " (0.723, 0.983]    -1.338650\n",
       " (0.983, 1.0]      -0.480089\n",
       " (1.0, inf]        -2.032935\n",
       " dtype: float64, 'age': cut\n",
       " (-inf, 43.0]   -0.456885\n",
       " (43.0, 54.0]   -0.225934\n",
       " (54.0, 61.0]    0.238662\n",
       " (61.0, 74.0]    1.016236\n",
       " (74.0, inf]     1.717510\n",
       " dtype: float64}"
      ]
     },
     "execution_count": 62,
     "metadata": {},
     "output_type": "execute_result"
    }
   ],
   "source": [
    "def get_woe(df,col,y,bins):\n",
    "    df = df[[col,y]].copy()\n",
    "    df[\"cut\"] = pd.cut(df[col],bins)\n",
    "    bins_df = df.groupby(\"cut\")[y].value_counts().unstack()\n",
    "    woe = bins_df[\"woe\"] = np.log((bins_df[0]/bins_df[0].sum())/(bins_df[1]/bins_df[1].sum()))\n",
    "    return woe\n",
    " \n",
    "#将所有特征的WOE存储到字典当中\n",
    "woeall = {}\n",
    "for col in bins_of_col:\n",
    "    woeall[col] = get_woe(model_data,col,\"SeriousDlqin2yrs\",bins_of_col[col])\n",
    "    \n",
    "woeall"
   ]
  },
  {
   "cell_type": "code",
   "execution_count": 63,
   "metadata": {},
   "outputs": [
    {
     "data": {
      "text/html": [
       "<div>\n",
       "<style scoped>\n",
       "    .dataframe tbody tr th:only-of-type {\n",
       "        vertical-align: middle;\n",
       "    }\n",
       "\n",
       "    .dataframe tbody tr th {\n",
       "        vertical-align: top;\n",
       "    }\n",
       "\n",
       "    .dataframe thead th {\n",
       "        text-align: right;\n",
       "    }\n",
       "</style>\n",
       "<table border=\"1\" class=\"dataframe\">\n",
       "  <thead>\n",
       "    <tr style=\"text-align: right;\">\n",
       "      <th></th>\n",
       "      <th>age</th>\n",
       "      <th>RevolvingUtilizationOfUnsecuredLines</th>\n",
       "      <th>DebtRatio</th>\n",
       "      <th>MonthlyIncome</th>\n",
       "      <th>NumberOfOpenCreditLinesAndLoans</th>\n",
       "      <th>NumberOfTime30-59DaysPastDueNotWorse</th>\n",
       "      <th>NumberOfTimes90DaysLate</th>\n",
       "      <th>NumberRealEstateLoansOrLines</th>\n",
       "      <th>NumberOfTime60-89DaysPastDueNotWorse</th>\n",
       "      <th>NumberOfDependents</th>\n",
       "      <th>SeriousDlqin2yrs</th>\n",
       "    </tr>\n",
       "  </thead>\n",
       "  <tbody>\n",
       "    <tr>\n",
       "      <th>0</th>\n",
       "      <td>0.238662</td>\n",
       "      <td>-1.338650</td>\n",
       "      <td>0.176163</td>\n",
       "      <td>1.348712</td>\n",
       "      <td>0.125808</td>\n",
       "      <td>0.356425</td>\n",
       "      <td>0.235184</td>\n",
       "      <td>0.628844</td>\n",
       "      <td>0.123733</td>\n",
       "      <td>0.625096</td>\n",
       "      <td>0</td>\n",
       "    </tr>\n",
       "    <tr>\n",
       "      <th>1</th>\n",
       "      <td>-0.456885</td>\n",
       "      <td>-2.032935</td>\n",
       "      <td>-0.467731</td>\n",
       "      <td>-0.235982</td>\n",
       "      <td>0.125808</td>\n",
       "      <td>-1.366286</td>\n",
       "      <td>-1.749760</td>\n",
       "      <td>0.200596</td>\n",
       "      <td>-1.376071</td>\n",
       "      <td>-0.585375</td>\n",
       "      <td>1</td>\n",
       "    </tr>\n",
       "    <tr>\n",
       "      <th>2</th>\n",
       "      <td>-0.225934</td>\n",
       "      <td>-1.338650</td>\n",
       "      <td>-0.467731</td>\n",
       "      <td>0.232476</td>\n",
       "      <td>0.125808</td>\n",
       "      <td>0.356425</td>\n",
       "      <td>0.235184</td>\n",
       "      <td>0.628844</td>\n",
       "      <td>0.123733</td>\n",
       "      <td>-0.585375</td>\n",
       "      <td>0</td>\n",
       "    </tr>\n",
       "    <tr>\n",
       "      <th>3</th>\n",
       "      <td>-0.456885</td>\n",
       "      <td>-0.480089</td>\n",
       "      <td>-0.013003</td>\n",
       "      <td>-0.235982</td>\n",
       "      <td>-0.341646</td>\n",
       "      <td>-1.366286</td>\n",
       "      <td>0.235184</td>\n",
       "      <td>0.200596</td>\n",
       "      <td>0.123733</td>\n",
       "      <td>0.625096</td>\n",
       "      <td>0</td>\n",
       "    </tr>\n",
       "    <tr>\n",
       "      <th>4</th>\n",
       "      <td>-0.456885</td>\n",
       "      <td>-0.621826</td>\n",
       "      <td>-0.467731</td>\n",
       "      <td>0.232476</td>\n",
       "      <td>0.482049</td>\n",
       "      <td>0.356425</td>\n",
       "      <td>0.235184</td>\n",
       "      <td>0.628844</td>\n",
       "      <td>0.123733</td>\n",
       "      <td>0.625096</td>\n",
       "      <td>0</td>\n",
       "    </tr>\n",
       "  </tbody>\n",
       "</table>\n",
       "</div>"
      ],
      "text/plain": [
       "        age RevolvingUtilizationOfUnsecuredLines DebtRatio MonthlyIncome  \\\n",
       "0  0.238662                            -1.338650  0.176163      1.348712   \n",
       "1 -0.456885                            -2.032935 -0.467731     -0.235982   \n",
       "2 -0.225934                            -1.338650 -0.467731      0.232476   \n",
       "3 -0.456885                            -0.480089 -0.013003     -0.235982   \n",
       "4 -0.456885                            -0.621826 -0.467731      0.232476   \n",
       "\n",
       "  NumberOfOpenCreditLinesAndLoans NumberOfTime30-59DaysPastDueNotWorse  \\\n",
       "0                        0.125808                             0.356425   \n",
       "1                        0.125808                            -1.366286   \n",
       "2                        0.125808                             0.356425   \n",
       "3                       -0.341646                            -1.366286   \n",
       "4                        0.482049                             0.356425   \n",
       "\n",
       "  NumberOfTimes90DaysLate NumberRealEstateLoansOrLines  \\\n",
       "0                0.235184                     0.628844   \n",
       "1               -1.749760                     0.200596   \n",
       "2                0.235184                     0.628844   \n",
       "3                0.235184                     0.200596   \n",
       "4                0.235184                     0.628844   \n",
       "\n",
       "  NumberOfTime60-89DaysPastDueNotWorse NumberOfDependents  SeriousDlqin2yrs  \n",
       "0                             0.123733           0.625096                 0  \n",
       "1                            -1.376071          -0.585375                 1  \n",
       "2                             0.123733          -0.585375                 0  \n",
       "3                             0.123733           0.625096                 0  \n",
       "4                             0.123733           0.625096                 0  "
      ]
     },
     "execution_count": 63,
     "metadata": {},
     "output_type": "execute_result"
    }
   ],
   "source": [
    "#不希望覆盖掉原本的数据，创建一个新的DataFrame，索引和原始数据model_data一模一样\n",
    "model_woe = pd.DataFrame(index=model_data.index)\n",
    " \n",
    "#将原数据分箱后，按箱的结果把WOE结构用map函数映射到数据中\n",
    "model_woe[\"age\"] = pd.cut(model_data[\"age\"],bins_of_col[\"age\"]).map(woeall[\"age\"])\n",
    " \n",
    "#对所有特征操作可以写成：\n",
    "for col in bins_of_col:\n",
    "    model_woe[col] = pd.cut(model_data[col],bins_of_col[col]).map(woeall[col])\n",
    "    \n",
    "#将标签补充到数据中\n",
    "model_woe[\"SeriousDlqin2yrs\"] = model_data[\"SeriousDlqin2yrs\"]\n",
    " \n",
    "#这就是我们的建模数据了\n",
    "model_woe.head()"
   ]
  },
  {
   "cell_type": "code",
   "execution_count": 64,
   "metadata": {},
   "outputs": [],
   "source": [
    "vali_woe = pd.DataFrame(index=vali_data.index)\n",
    " \n",
    "for col in bins_of_col:\n",
    "    vali_woe[col] = pd.cut(vali_data[col],bins_of_col[col]).map(woeall[col])\n",
    "vali_woe[\"SeriousDlqin2yrs\"] = vali_data[\"SeriousDlqin2yrs\"]\n",
    " \n",
    "vali_X = vali_woe.iloc[:,:-1]\n",
    "vali_y = vali_woe.iloc[:,-1]"
   ]
  },
  {
   "cell_type": "code",
   "execution_count": 65,
   "metadata": {},
   "outputs": [
    {
     "data": {
      "text/plain": [
       "0.7738106633483297"
      ]
     },
     "execution_count": 65,
     "metadata": {},
     "output_type": "execute_result"
    }
   ],
   "source": [
    "X = model_woe.iloc[:,:-1]\n",
    "y = model_woe.iloc[:,-1]\n",
    " \n",
    "from sklearn.linear_model import LogisticRegression as LR\n",
    " \n",
    "lr = LR().fit(X,y)\n",
    "lr.score(vali_X,vali_y)#0.8641356370249832"
   ]
  },
  {
   "cell_type": "code",
   "execution_count": 66,
   "metadata": {},
   "outputs": [
    {
     "data": {
      "image/png": "[encoded data removed]",
      "text/plain": [
       "<Figure size 432x288 with 1 Axes>"
      ]
     },
     "metadata": {
      "needs_background": "light"
     },
     "output_type": "display_data"
    },
    {
     "name": "stderr",
     "output_type": "stream",
     "text": [
      "/usr/local/lib/python3.6/dist-packages/sklearn/svm/_base.py:977: ConvergenceWarning: Liblinear failed to converge, increase the number of iterations.\n",
      "  \"the number of iterations.\", ConvergenceWarning)\n",
      "/usr/local/lib/python3.6/dist-packages/sklearn/svm/_base.py:977: ConvergenceWarning: Liblinear failed to converge, increase the number of iterations.\n",
      "  \"the number of iterations.\", ConvergenceWarning)\n",
      "/usr/local/lib/python3.6/dist-packages/sklearn/svm/_base.py:977: ConvergenceWarning: Liblinear failed to converge, increase the number of iterations.\n",
      "  \"the number of iterations.\", ConvergenceWarning)\n",
      "/usr/local/lib/python3.6/dist-packages/sklearn/svm/_base.py:977: ConvergenceWarning: Liblinear failed to converge, increase the number of iterations.\n",
      "  \"the number of iterations.\", ConvergenceWarning)\n",
      "/usr/local/lib/python3.6/dist-packages/sklearn/svm/_base.py:977: ConvergenceWarning: Liblinear failed to converge, increase the number of iterations.\n",
      "  \"the number of iterations.\", ConvergenceWarning)\n"
     ]
    },
    {
     "data": {
      "image/png": "[encoded data removed]",
      "text/plain": [
       "<Figure size 432x288 with 1 Axes>"
      ]
     },
     "metadata": {
      "needs_background": "light"
     },
     "output_type": "display_data"
    }
   ],
   "source": [
    "c_1 = np.linspace(0.01,1,20)\n",
    "c_2 = np.linspace(0.01,0.2,20)\n",
    " \n",
    "score = []\n",
    "for i in c_1: \n",
    "    lr = LR(solver='liblinear',C=i).fit(X,y)\n",
    "    score.append(lr.score(vali_X,vali_y))\n",
    "plt.figure()\n",
    "plt.plot(c_1,score)\n",
    "plt.show()\n",
    " \n",
    "lr.n_iter_#array([7], dtype=int32)\n",
    " \n",
    "score = []\n",
    "for i in [1,2,3,4,5,6]: \n",
    "    lr = LR(solver='liblinear',C=0.025,max_iter=i).fit(X,y)\n",
    "    score.append(lr.score(vali_X,vali_y))\n",
    "plt.figure()\n",
    "plt.plot([1,2,3,4,5,6],score)\n",
    "plt.show()"
   ]
  },
  {
   "cell_type": "code",
   "execution_count": 68,
   "metadata": {},
   "outputs": [
    {
     "data": {
      "text/plain": [
       "<matplotlib.axes._subplots.AxesSubplot at 0x7f3c58f7ee10>"
      ]
     },
     "execution_count": 68,
     "metadata": {},
     "output_type": "execute_result"
    },
    {
     "data": {
      "image/png": "[encoded data removed]",
      "text/plain": [
       "<Figure size 432x432 with 1 Axes>"
      ]
     },
     "metadata": {
      "needs_background": "light"
     },
     "output_type": "display_data"
    }
   ],
   "source": [
    "import scikitplot as skplt\n",
    " \n",
    "#%%cmd\n",
    "#pip install scikit-plot\n",
    " \n",
    "vali_proba_df = pd.DataFrame(lr.predict_proba(vali_X))\n",
    "skplt.metrics.plot_roc(vali_y, vali_proba_df,\n",
    "                        plot_micro=False,figsize=(6,6),\n",
    "                        plot_macro=False)"
   ]
  },
  {
   "cell_type": "code",
   "execution_count": 69,
   "metadata": {},
   "outputs": [
    {
     "data": {
      "text/plain": [
       "(28.85390081777927, 481.8621880878296)"
      ]
     },
     "execution_count": 69,
     "metadata": {},
     "output_type": "execute_result"
    }
   ],
   "source": [
    "B = 20/np.log(2)\n",
    "A = 600 + B*np.log(1/60)\n",
    " \n",
    "B,A"
   ]
  },
  {
   "cell_type": "code",
   "execution_count": 70,
   "metadata": {},
   "outputs": [
    {
     "data": {
      "text/plain": [
       "cut\n",
       "(-inf, 43.0]    -9.906355\n",
       "(43.0, 54.0]    -4.898786\n",
       "(54.0, 61.0]     5.174765\n",
       "(61.0, 74.0]    22.034407\n",
       "(74.0, inf]     37.239692\n",
       "dtype: float64"
      ]
     },
     "execution_count": 70,
     "metadata": {},
     "output_type": "execute_result"
    }
   ],
   "source": [
    "base_score = A - B*lr.intercept_#lr.intercept_：截距\n",
    "base_score#array([481.56390143])\n",
    " \n",
    "score_age = woeall[\"age\"] * (-B*lr.coef_[0][1])#lr.coef_：每一个特征建模之后得出的系数\n",
    "score_age#\"age\"特征中每个箱对应的分数"
   ]
  },
  {
   "cell_type": "code",
   "execution_count": 71,
   "metadata": {},
   "outputs": [],
   "source": [
    "file = \"./ScoreData.csv\"\n",
    " \n",
    "#open是用来打开文件的python命令，第一个参数是文件的路径+文件名，如果你的文件是放在根目录下，则你只需要文件名就好\n",
    "#第二个参数是打开文件后的用途，\"w\"表示用于写入，通常使用的是\"r\"，表示打开来阅读\n",
    "#首先写入基准分数\n",
    "#之后使用循环，每次生成一组score_age类似的分档和分数，不断写入文件之中\n",
    " \n",
    "with open(file,\"w\") as fdata:\n",
    "    fdata.write(\"base_score,{}\\n\".format(base_score))\n",
    "for i,col in enumerate(X.columns):#[*enumerate(X.columns)]\n",
    "    score = woeall[col] * (-B*lr.coef_[0][i])\n",
    "    score.name = \"Score\"\n",
    "    score.index.name = col\n",
    "    score.to_csv(file,header=True,mode=\"a\")"
   ]
  },
  {
   "cell_type": "code",
   "execution_count": null,
   "metadata": {},
   "outputs": [],
   "source": []
  }
 ],
 "metadata": {
  "kernelspec": {
   "display_name": "Python 3",
   "language": "python",
   "name": "python3"
  },
  "language_info": {
   "codemirror_mode": {
    "name": "ipython",
    "version": 3
   },
   "file_extension": ".py",
   "mimetype": "text/x-python",
   "name": "python",
   "nbconvert_exporter": "python",
   "pygments_lexer": "ipython3",
   "version": "3.6.7"
  }
 },
 "nbformat": 4,
 "nbformat_minor": 4
}
