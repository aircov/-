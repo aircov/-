{
 "cells": [
  {
   "cell_type": "code",
   "execution_count": 1,
   "metadata": {},
   "outputs": [],
   "source": [
    "import numpy as np\n",
    "import matplotlib.pyplot as plt\n",
    "import re\n",
    "import jieba\n",
    "# gensim用来加载预训练word vector\n",
    "from gensim.models import KeyedVectors\n",
    "#KeyedVectors实现实体（单词、文档、图片都可以）和向量之间的映射，实体都用string id表示\n",
    "#有时候运行代码时会有很多warning输出，如提醒新版本之类的，如果不想乱糟糟的输出可以这样\n"
   ]
  },
  {
   "cell_type": "code",
   "execution_count": 2,
   "metadata": {},
   "outputs": [],
   "source": [
    "# 预训练词向量\n",
    "# 使用gensim加载预训练中文分词embedding\n",
    "cn_model = KeyedVectors.load_word2vec_format('data/sgns.zhihu.bigram',\n",
    "                                          binary=False)\n",
    "# 词向量模型\n",
    "# 在这个词向量模型里，每一个词是一个索引，对应的是一个长度为300的向量，我们今天需要构建的LSTM神经网络模型并不能直接处理汉字文本，\n",
    "# 需要先进行分次并把词汇转换为词向量，步骤请参考：\n",
    "# 0.原始文本：我喜欢文学\n",
    "# 1.分词：我，喜欢，文学\n",
    "# 2.Tokenize(索引化)：[2,345，4564]\n",
    "# 3.Embedding(词向量化)：用一个300维的词向量，上面的tokens成为一个[3，300]的矩阵\n",
    "# 4.RNN:1DCONV,GRU,LSTM等\n",
    "# 5.经过激活函数输出分类：如sigmoid输出在0到1间\n",
    "# 由此可见每一个词都对应一个长度为300的向量"
   ]
  },
  {
   "cell_type": "code",
   "execution_count": 3,
   "metadata": {},
   "outputs": [
    {
     "name": "stdout",
     "output_type": "stream",
     "text": [
      "词向量的长度为300\n",
      "[-2.603470e-01  3.677500e-01 -2.379650e-01  5.301700e-02 -3.628220e-01\n",
      " -3.212010e-01 -1.903330e-01  1.587220e-01 -7.156200e-02 -4.625400e-02\n",
      " -1.137860e-01  3.515600e-01 -6.408200e-02 -2.184840e-01  3.286950e-01\n",
      " -7.110330e-01  1.620320e-01  1.627490e-01  5.528180e-01  1.016860e-01\n",
      "  1.060080e-01  7.820700e-01 -7.537310e-01 -2.108400e-02 -4.758250e-01\n",
      " -1.130420e-01 -2.053000e-01  6.624390e-01  2.435850e-01  9.171890e-01\n",
      " -2.090610e-01 -5.290000e-02 -7.969340e-01  2.394940e-01 -9.028100e-02\n",
      "  1.537360e-01 -4.003980e-01 -2.456100e-02 -1.717860e-01  2.037790e-01\n",
      " -4.344710e-01 -3.850430e-01 -9.366000e-02  3.775310e-01  2.659690e-01\n",
      "  8.879800e-02  2.493440e-01  4.914900e-02  5.996000e-03  3.586430e-01\n",
      " -1.044960e-01 -5.838460e-01  3.093280e-01 -2.828090e-01 -8.563400e-02\n",
      " -5.745400e-02 -2.075230e-01  2.845980e-01  1.414760e-01  1.678570e-01\n",
      "  1.957560e-01  7.782140e-01 -2.359000e-01 -6.833100e-02  2.560170e-01\n",
      " -6.906900e-02 -1.219620e-01  2.683020e-01  1.678810e-01  2.068910e-01\n",
      "  1.987520e-01  6.720900e-02 -3.975290e-01 -7.123140e-01  5.613200e-02\n",
      "  2.586000e-03  5.616910e-01  1.157000e-03 -4.341190e-01  1.977480e-01\n",
      "  2.519540e-01  8.835000e-03 -3.554600e-01 -1.573500e-02 -2.526010e-01\n",
      "  9.355900e-02 -3.962500e-02 -1.628350e-01  2.980950e-01  1.647900e-01\n",
      " -5.454270e-01  3.888790e-01  1.446840e-01 -7.239600e-02 -7.597800e-02\n",
      " -7.803000e-03  2.020520e-01 -4.424750e-01  3.911580e-01  2.115100e-01\n",
      "  6.516760e-01  5.668030e-01  5.065500e-02 -1.259650e-01 -3.720640e-01\n",
      "  2.330470e-01  6.659900e-02  8.300600e-02  2.540460e-01 -5.279760e-01\n",
      " -3.843280e-01  3.366460e-01  2.336500e-01  3.564750e-01 -4.884160e-01\n",
      " -1.183910e-01  1.365910e-01  2.293420e-01 -6.151930e-01  5.212050e-01\n",
      "  3.412000e-01  5.757940e-01  2.354480e-01 -3.641530e-01  7.373400e-02\n",
      "  1.007380e-01 -3.211410e-01 -3.040480e-01 -3.738440e-01 -2.515150e-01\n",
      "  2.633890e-01  3.995490e-01  4.461880e-01  1.641110e-01  1.449590e-01\n",
      " -4.191540e-01  2.297840e-01  6.710600e-02  3.316430e-01 -6.026500e-02\n",
      " -5.130610e-01  1.472570e-01  2.414060e-01  2.011000e-03 -3.823410e-01\n",
      " -1.356010e-01  3.112300e-01  9.177830e-01 -4.511630e-01  1.272190e-01\n",
      " -9.431600e-02 -8.216000e-03 -3.835440e-01  2.589400e-02  6.374980e-01\n",
      "  4.931630e-01 -1.865070e-01  4.076900e-01 -1.841000e-03  2.213160e-01\n",
      "  2.253950e-01 -2.159220e-01 -7.611480e-01 -2.305920e-01  1.296890e-01\n",
      " -1.304100e-01 -4.742270e-01  2.275500e-02  4.255050e-01  1.570280e-01\n",
      "  2.975300e-02  1.931830e-01  1.304340e-01 -3.179800e-02  1.516650e-01\n",
      " -2.154310e-01 -4.681410e-01  1.007326e+00 -6.698940e-01 -1.555240e-01\n",
      "  1.797170e-01  2.848660e-01  6.216130e-01  1.549510e-01  6.225000e-02\n",
      " -2.227800e-02  2.561270e-01 -1.006380e-01  2.807900e-02  4.597710e-01\n",
      " -4.077750e-01 -1.777390e-01  1.920500e-02 -4.829300e-02  4.714700e-02\n",
      " -3.715200e-01 -2.995930e-01 -3.719710e-01  4.622800e-02 -1.436460e-01\n",
      "  2.532540e-01 -9.334000e-02 -4.957400e-02 -3.803850e-01  5.970110e-01\n",
      "  3.578450e-01 -6.826000e-02  4.735200e-02 -3.707590e-01 -8.621300e-02\n",
      " -2.556480e-01 -5.950440e-01 -4.757790e-01  1.079320e-01  9.858300e-02\n",
      "  8.540300e-01  3.518370e-01 -1.306360e-01 -1.541590e-01  1.166775e+00\n",
      "  2.048860e-01  5.952340e-01  1.158830e-01  6.774400e-02  6.793920e-01\n",
      " -3.610700e-01  1.697870e-01  4.118530e-01  4.731000e-03 -7.516530e-01\n",
      " -9.833700e-02 -2.312220e-01 -7.043300e-02  1.576110e-01 -4.780500e-02\n",
      " -7.344390e-01 -2.834330e-01  4.582690e-01  3.957010e-01 -8.484300e-02\n",
      " -3.472550e-01  1.291660e-01  3.838960e-01 -3.287600e-02 -2.802220e-01\n",
      "  5.257030e-01 -3.609300e-02 -4.842220e-01  3.690700e-02  3.429560e-01\n",
      "  2.902490e-01 -1.624650e-01 -7.513700e-02  2.669300e-01  5.778230e-01\n",
      " -3.074020e-01 -2.183790e-01 -2.834050e-01  1.350870e-01  1.490070e-01\n",
      "  1.438400e-02 -2.509040e-01 -3.376100e-01  1.291880e-01 -3.808700e-01\n",
      " -4.420520e-01 -2.512300e-01 -1.328990e-01 -1.211970e-01  2.532660e-01\n",
      "  2.757050e-01 -3.382040e-01  1.178070e-01  3.860190e-01  5.277960e-01\n",
      "  4.581920e-01  1.502310e-01  1.226320e-01  2.768540e-01 -4.502080e-01\n",
      " -1.992670e-01  1.689100e-02  1.188860e-01  3.502440e-01 -4.064770e-01\n",
      "  2.610280e-01 -1.934990e-01 -1.625660e-01  2.498400e-02 -1.867150e-01\n",
      " -1.954400e-02 -2.281900e-01 -3.417670e-01 -5.222770e-01 -9.543200e-02\n",
      " -3.500350e-01  2.154600e-02  2.318040e-01  5.395310e-01 -4.223720e-01]\n",
      "0.66128117\n",
      "sim:  0.6612812\n"
     ]
    }
   ],
   "source": [
    "embedding_dim = cn_model['山东大学'].shape[0]  #一词山东大学，shape[0]返回行数\n",
    "print('词向量的长度为{}'.format(embedding_dim))\n",
    "print(cn_model['山东大学'])\n",
    "\n",
    "# 计算相似度\n",
    "print(cn_model.similarity('橘子', '橙子'))\n",
    "\n",
    "# dot（'橘子'/|'橘子'|， '橙子'/|'橙子'| ），余弦相似度\n",
    "sim = np.dot(cn_model['橘子']/np.linalg.norm(cn_model['橘子']),\n",
    "        cn_model['橙子']/np.linalg.norm(cn_model['橙子']))\n",
    "print(\"sim: \", sim)"
   ]
  },
  {
   "cell_type": "code",
   "execution_count": 4,
   "metadata": {},
   "outputs": [
    {
     "name": "stdout",
     "output_type": "stream",
     "text": [
      "[('高中', 0.7247821688652039), ('本科', 0.6768536567687988), ('研究生', 0.6244412660598755), ('中学', 0.6088206768035889), ('大学本科', 0.595908522605896), ('初中', 0.5883588790893555), ('读研', 0.5778335928916931), ('职高', 0.5767994523048401), ('大学毕业', 0.5767452120780945), ('师范大学', 0.5708829164505005)]\n"
     ]
    }
   ],
   "source": [
    "# 找出最相近的词，余弦相似度\n",
    "print(cn_model.most_similar(positive=['大学'], topn=10))"
   ]
  },
  {
   "cell_type": "code",
   "execution_count": 5,
   "metadata": {},
   "outputs": [
    {
     "name": "stdout",
     "output_type": "stream",
     "text": [
      "在 老师 会计师 程序员 律师 医生 老人 中:\n",
      "不是同一类别的词为: 老人\n"
     ]
    }
   ],
   "source": [
    "# 找出不同的词\n",
    "test_words = '老师 会计师 程序员 律师 医生 老人'\n",
    "test_words_result = cn_model.doesnt_match(test_words.split())\n",
    "print('在 '+test_words+' 中:\\n不是同一类别的词为: %s' %test_words_result)"
   ]
  },
  {
   "cell_type": "code",
   "execution_count": 6,
   "metadata": {},
   "outputs": [
    {
     "data": {
      "text/plain": [
       "[('劈腿', 0.5849197506904602)]"
      ]
     },
     "execution_count": 6,
     "metadata": {},
     "output_type": "execute_result"
    }
   ],
   "source": [
    "cn_model.most_similar(positive=['女人','出轨'], negative=['男人'], topn=1)"
   ]
  },
  {
   "cell_type": "code",
   "execution_count": 7,
   "metadata": {},
   "outputs": [
    {
     "name": "stdout",
     "output_type": "stream",
     "text": [
      "样本总共: 4000\n"
     ]
    }
   ],
   "source": [
    "# 训练语料 （数据集）\n",
    "# 本教程使用了酒店评论语料，训练样本分别被放置在两个文件夹里： 分别的pos和neg，\n",
    "# 每个文件夹里有2000个txt文件，每个文件内有一段评语，共有4000个训练样本，这样大小的样本数据在NLP中属于非常迷你的\n",
    "\n",
    "# 获得样本的索引，样本存放于两个文件夹中，\n",
    "# 分别为 正面评价'pos'文件夹 和 负面评价'neg'文件夹\n",
    "# 每个文件夹中有2000个txt文件，每个文件中是一例评价，一个对一个\n",
    "import os\n",
    "pos_txts = os.listdir('data/pos')\n",
    "neg_txts = os.listdir('data/neg')\n",
    "print( '样本总共: '+ str(len(pos_txts) + len(neg_txts)) )\n"
   ]
  },
  {
   "cell_type": "code",
   "execution_count": 11,
   "metadata": {},
   "outputs": [],
   "source": [
    "# 现在我们将所有的评价内容放置到一个list里\n",
    "train_texts_orig = [] # 存储所有评价，每例评价为一条string，原始评论\n",
    "# 添加完所有样本之后，train_texts_orig为一个含有4000条文本的list\n",
    "# 其中前2000条文本为正面评价，后2000条为负面评价\n",
    "#以下为读入.txt文件过程\n",
    "for i in range(len(pos_txts)):\n",
    "    with open('data/pos/'+pos_txts[i], 'r', errors='ignore') as f:\n",
    "        text = f.read().strip()\n",
    "        train_texts_orig.append(text)\n",
    "        f.close()\n",
    "for i in range(len(neg_txts)):\n",
    "    with open('data/neg/'+neg_txts[i], 'r', errors='ignore') as f:\n",
    "        text = f.read().strip()\n",
    "        train_texts_orig.append(text)\n",
    "        f.close()"
   ]
  },
  {
   "cell_type": "code",
   "execution_count": 12,
   "metadata": {},
   "outputs": [
    {
     "data": {
      "text/plain": [
       "['早餐太差，无论去多少人，那边也不加食品的。酒店应该重视一下这个问题了。\\n\\n房间本身很好。',\n",
       " '宾馆在小街道上，不大好找，但还好北京热心同胞很多~\\n\\n宾馆设施跟介绍的差不多，房间很小，确实挺小，但加上低价位因素，还是无超所值的；\\n\\n环境不错，就在小胡同内，安静整洁，暖气好足-_-||。。。呵\\n\\n还有一大优势就是从宾馆出发，步行不到十分钟就可以到梅兰芳故居等等，京味小胡同，北海距离好近呢。\\n\\n总之，不错。\\n\\n推荐给节约消费的自助游朋友~比较划算，附近特色小吃很多~',\n",
       " 'CBD中心,周围没什么店铺,说5星有点勉强.不知道为什么卫生间没有电吹风',\n",
       " '总的来说，这样的酒店配这样的价格还算可以，希望他赶快装修，给我的客人留些好的印象',\n",
       " '价格比比较不错的酒店。这次免费升级了，感谢前台服务员。房子还好，地毯是新的，比上次的好些。早餐的人很多要早去些。']"
      ]
     },
     "execution_count": 12,
     "metadata": {},
     "output_type": "execute_result"
    }
   ],
   "source": [
    "train_texts_orig[:5]"
   ]
  },
  {
   "cell_type": "code",
   "execution_count": 13,
   "metadata": {},
   "outputs": [
    {
     "name": "stderr",
     "output_type": "stream",
     "text": [
      "Building prefix dict from the default dictionary ...\n",
      "Dumping model to file cache C:\\Users\\ADMINI~1\\AppData\\Local\\Temp\\jieba.cache\n",
      "Loading model cost 1.329 seconds.\n",
      "Prefix dict has been built succesfully.\n"
     ]
    }
   ],
   "source": [
    "# 进行分词和tokenize\n",
    "# train_tokens是一个长长的list，其中含有4000个小list，对应每一条评价\n",
    "train_tokens = []\n",
    "for text in train_texts_orig:\n",
    "    # 去掉标点\n",
    "    text = re.sub(\"[\\s+\\.\\!\\/_,$%^*(+\\\"\\']+|[+——！，。？、~@#￥%……&*（）]+\", \"\",text)\n",
    "    # 结巴分词\n",
    "    cut = jieba.cut(text)\n",
    "    # 结巴分词的输出结果为一个生成器\n",
    "    # 把生成器转换为list\n",
    "    cut_list = [ i for i in cut ]\n",
    "    for i, word in enumerate(cut_list):\n",
    "        try:\n",
    "            # 将词转换为索引index\n",
    "            cut_list[i] = cn_model.vocab[word].index\n",
    "        except KeyError:\n",
    "            # 如果词不在字典中，则输出0\n",
    "            cut_list[i] = 0\n",
    "    train_tokens.append(cut_list)\n"
   ]
  },
  {
   "cell_type": "code",
   "execution_count": 15,
   "metadata": {},
   "outputs": [
    {
     "data": {
      "text/plain": [
       "[[4656,\n",
       "  163,\n",
       "  710,\n",
       "  909,\n",
       "  32,\n",
       "  328,\n",
       "  12,\n",
       "  1899,\n",
       "  18,\n",
       "  8685,\n",
       "  1604,\n",
       "  1,\n",
       "  1845,\n",
       "  144,\n",
       "  2420,\n",
       "  153,\n",
       "  36,\n",
       "  75,\n",
       "  3,\n",
       "  1487,\n",
       "  571,\n",
       "  34,\n",
       "  72],\n",
       " [7224,\n",
       "  15,\n",
       "  95,\n",
       "  5976,\n",
       "  24,\n",
       "  31233,\n",
       "  173,\n",
       "  67,\n",
       "  2380,\n",
       "  497,\n",
       "  9074,\n",
       "  5139,\n",
       "  87,\n",
       "  7224,\n",
       "  5249,\n",
       "  103,\n",
       "  1113,\n",
       "  1,\n",
       "  869,\n",
       "  1487,\n",
       "  2871,\n",
       "  333,\n",
       "  470,\n",
       "  95,\n",
       "  67,\n",
       "  879,\n",
       "  83986,\n",
       "  1321,\n",
       "  57,\n",
       "  0,\n",
       "  0,\n",
       "  1,\n",
       "  110,\n",
       "  578,\n",
       "  562,\n",
       "  38,\n",
       "  15,\n",
       "  95,\n",
       "  9081,\n",
       "  457,\n",
       "  2567,\n",
       "  10199,\n",
       "  11216,\n",
       "  0,\n",
       "  148,\n",
       "  148,\n",
       "  2360,\n",
       "  2360,\n",
       "  7215,\n",
       "  158,\n",
       "  893,\n",
       "  1426,\n",
       "  38,\n",
       "  1353,\n",
       "  7224,\n",
       "  2289,\n",
       "  9265,\n",
       "  388,\n",
       "  0,\n",
       "  38,\n",
       "  35,\n",
       "  48,\n",
       "  44101,\n",
       "  33287,\n",
       "  810,\n",
       "  115835,\n",
       "  95,\n",
       "  9081,\n",
       "  10984,\n",
       "  1117,\n",
       "  0,\n",
       "  147,\n",
       "  3466,\n",
       "  562,\n",
       "  657,\n",
       "  51,\n",
       "  6781,\n",
       "  1622,\n",
       "  1,\n",
       "  62779,\n",
       "  211,\n",
       "  169,\n",
       "  9852,\n",
       "  1256,\n",
       "  88407,\n",
       "  87]]"
      ]
     },
     "execution_count": 15,
     "metadata": {},
     "output_type": "execute_result"
    }
   ],
   "source": [
    "train_tokens[:2]"
   ]
  },
  {
   "cell_type": "code",
   "execution_count": 17,
   "metadata": {},
   "outputs": [
    {
     "data": {
      "text/plain": [
       "71.4495"
      ]
     },
     "execution_count": 17,
     "metadata": {},
     "output_type": "execute_result"
    }
   ],
   "source": [
    "# 索引长度标准化\n",
    "# 因为每段评语的长度是不一样的，我们如果单纯取最长的一个评语，并把其他评填充成同样的长度，\n",
    "# 这样十分浪费计算资源，所以我们取一个折衷的长度。\n",
    "\n",
    "# 获得所有tokens的长度\n",
    "num_tokens = [len(tokens) for tokens in train_tokens ]\n",
    "num_tokens = np.array(num_tokens)\n",
    "# 平均tokens的长度\n",
    "np.mean(num_tokens)"
   ]
  },
  {
   "cell_type": "code",
   "execution_count": 18,
   "metadata": {},
   "outputs": [
    {
     "data": {
      "text/plain": [
       "1540"
      ]
     },
     "execution_count": 18,
     "metadata": {},
     "output_type": "execute_result"
    }
   ],
   "source": [
    "# 最长的评价tokens的长度\n",
    "np.max(num_tokens)"
   ]
  },
  {
   "cell_type": "code",
   "execution_count": 19,
   "metadata": {},
   "outputs": [
    {
     "data": {
      "image/png": "[encoded data removed]",
      "text/plain": [
       "<Figure size 432x288 with 1 Axes>"
      ]
     },
     "metadata": {
      "needs_background": "light"
     },
     "output_type": "display_data"
    }
   ],
   "source": [
    "plt.hist(np.log(num_tokens), bins = 100)#有大有小取对数\n",
    "plt.xlim((0,20))\n",
    "plt.ylabel('number of tokens')\n",
    "plt.xlabel('length of tokens')\n",
    "plt.title('Distribution of tokens length')\n",
    "plt.show()"
   ]
  },
  {
   "cell_type": "code",
   "execution_count": 20,
   "metadata": {},
   "outputs": [
    {
     "name": "stdout",
     "output_type": "stream",
     "text": [
      "236\n"
     ]
    }
   ],
   "source": [
    "# 取tokens平均值并加上两个tokens的标准差，\n",
    "# 假设tokens长度的分布为正态分布，则max_tokens这个值可以涵盖95%左右的样本\n",
    "max_tokens = np.mean(num_tokens) + 2 * np.std(num_tokens)\n",
    "max_tokens = int(max_tokens)\n",
    "print(max_tokens)"
   ]
  },
  {
   "cell_type": "code",
   "execution_count": 21,
   "metadata": {},
   "outputs": [
    {
     "name": "stdout",
     "output_type": "stream",
     "text": [
      "0.9565\n"
     ]
    }
   ],
   "source": [
    "# 取tokens的长度为236时，大约95%的样本被涵盖\n",
    "# 我们对长度不足的进行padding，超长的进行修剪\n",
    "print(np.sum(num_tokens < max_tokens) / len(num_tokens))"
   ]
  },
  {
   "cell_type": "code",
   "execution_count": 22,
   "metadata": {},
   "outputs": [],
   "source": [
    "# 反向tokenize\n",
    "# 为了之后来验证 我们定义一个function，用来把索引转换成可阅读的文本，这对于debug很重要。\n",
    "# 用来将tokens转换为文本\n",
    "def reverse_tokens(tokens):\n",
    "    text = ''\n",
    "    for i in tokens:\n",
    "        if i != 0:\n",
    "            text = text + cn_model.index2word[i]\n",
    "        else:\n",
    "            text = text + ' '\n",
    "    return text"
   ]
  },
  {
   "cell_type": "code",
   "execution_count": 23,
   "metadata": {},
   "outputs": [],
   "source": [
    "reverse = reverse_tokens(train_tokens[0])"
   ]
  },
  {
   "cell_type": "code",
   "execution_count": 24,
   "metadata": {},
   "outputs": [
    {
     "data": {
      "text/plain": [
       "'早餐太差无论去多少人那边也不加食品的酒店应该重视一下这个问题了房间本身很好'"
      ]
     },
     "execution_count": 24,
     "metadata": {},
     "output_type": "execute_result"
    }
   ],
   "source": [
    "# 经过tokenize再恢复成文本\n",
    "# 可见标点符号都没有了\n",
    "reverse"
   ]
  },
  {
   "cell_type": "code",
   "execution_count": 25,
   "metadata": {},
   "outputs": [
    {
     "data": {
      "text/plain": [
       "'早餐太差，无论去多少人，那边也不加食品的。酒店应该重视一下这个问题了。\\n\\n房间本身很好。'"
      ]
     },
     "execution_count": 25,
     "metadata": {},
     "output_type": "execute_result"
    }
   ],
   "source": [
    "train_texts_orig[0]"
   ]
  },
  {
   "cell_type": "code",
   "execution_count": 26,
   "metadata": {},
   "outputs": [
    {
     "data": {
      "text/plain": [
       "'的'"
      ]
     },
     "execution_count": 26,
     "metadata": {},
     "output_type": "execute_result"
    }
   ],
   "source": [
    "cn_model.index2word[1]"
   ]
  },
  {
   "cell_type": "code",
   "execution_count": 27,
   "metadata": {},
   "outputs": [],
   "source": [
    "# 构建embedding matrix\n",
    "# 现在我们来为模型准备embedding matrix（词向量矩阵），根据keras的要求，我们需要准备一个维度为(numwords, embeddingdim)的矩阵\n",
    "# 【num words代表我们使用的词汇的数量，emdedding dimension在我们现在使用的预训练词向量模型中是300，\n",
    "# 每一个词汇都用一个长度为300的向量表示】注意我们只选择使用前50k个使用频率最高的词，在这个预训练词向量模型中，\n",
    "# 一共有260万词汇量，如果全部使用在分类问题上会很浪费计算资源，因为我们的训练样本很小，一共只有4k，如果我们有100k，\n",
    "# 200k甚至更多的训练样本时，在分类问题上可以考虑减少使用的词汇量。\n",
    "\n",
    "# 只使用大库前50000个词\n",
    "num_words = 50000\n",
    "# 初始化embedding_matrix，之后在keras上进行应用\n",
    "embedding_matrix = np.zeros((num_words, embedding_dim))\n",
    "# embedding_matrix为一个 [num_words，embedding_dim] 的矩阵\n",
    "# 维度为 50000 * 300\n",
    "for i in range(num_words):\n",
    "    embedding_matrix[i,:] = cn_model[cn_model.index2word[i]]\n",
    "embedding_matrix = embedding_matrix.astype('float32')\n"
   ]
  },
  {
   "cell_type": "code",
   "execution_count": 28,
   "metadata": {},
   "outputs": [
    {
     "data": {
      "text/plain": [
       "array([[-8.017840e-01, -1.653400e-01,  3.050800e-02, ...,  1.065250e-01,\n",
       "         5.534360e-01,  4.366500e-01],\n",
       "       [-6.517470e-01,  5.359700e-01,  3.402710e-01, ...,  8.053990e-01,\n",
       "         1.045930e-01,  1.936940e-01],\n",
       "       [-4.123210e-01,  2.282610e-01,  2.071140e-01, ...,  8.087770e-01,\n",
       "         5.675100e-02,  4.523740e-01],\n",
       "       ...,\n",
       "       [ 5.849840e-01,  1.121180e-01, -6.938330e-01, ..., -3.760570e-01,\n",
       "         1.203500e-01, -1.059511e+00],\n",
       "       [ 1.511710e-01, -3.200000e-04, -3.885760e-01, ..., -5.988550e-01,\n",
       "         4.273530e-01, -3.922630e-01],\n",
       "       [-4.536090e-01, -1.813600e-02, -1.306600e-01, ..., -6.608000e-02,\n",
       "         3.566680e-01,  3.898050e-01]], dtype=float32)"
      ]
     },
     "execution_count": 28,
     "metadata": {},
     "output_type": "execute_result"
    }
   ],
   "source": [
    "embedding_matrix"
   ]
  },
  {
   "cell_type": "code",
   "execution_count": 29,
   "metadata": {},
   "outputs": [
    {
     "data": {
      "text/plain": [
       "300"
      ]
     },
     "execution_count": 29,
     "metadata": {},
     "output_type": "execute_result"
    }
   ],
   "source": [
    "# 检查index是否对应，\n",
    "# 输出300意义为长度为300的embedding向量一一对应\n",
    "np.sum( cn_model[cn_model.index2word[333]] == embedding_matrix[333] )"
   ]
  },
  {
   "cell_type": "code",
   "execution_count": 31,
   "metadata": {},
   "outputs": [
    {
     "name": "stderr",
     "output_type": "stream",
     "text": [
      "Using TensorFlow backend.\n"
     ]
    },
    {
     "ename": "ModuleNotFoundError",
     "evalue": "No module named 'tensorflow'",
     "output_type": "error",
     "traceback": [
      "\u001b[1;31m---------------------------------------------------------------------------\u001b[0m",
      "\u001b[1;31mModuleNotFoundError\u001b[0m                       Traceback (most recent call last)",
      "\u001b[1;32m<ipython-input-31-bd5be106f918>\u001b[0m in \u001b[0;36m<module>\u001b[1;34m\u001b[0m\n\u001b[0;32m      5\u001b[0m \u001b[1;31m# 进行padding和truncating， 输入的train_tokens是一个list\u001b[0m\u001b[1;33m\u001b[0m\u001b[1;33m\u001b[0m\u001b[1;33m\u001b[0m\u001b[0m\n\u001b[0;32m      6\u001b[0m \u001b[1;31m# 返回的train_pad是一个numpy array\u001b[0m\u001b[1;33m\u001b[0m\u001b[1;33m\u001b[0m\u001b[1;33m\u001b[0m\u001b[0m\n\u001b[1;32m----> 7\u001b[1;33m \u001b[1;32mfrom\u001b[0m \u001b[0mkeras\u001b[0m\u001b[1;33m.\u001b[0m\u001b[0mpreprocessing\u001b[0m\u001b[1;33m.\u001b[0m\u001b[0msequence\u001b[0m \u001b[1;32mimport\u001b[0m \u001b[0mpad_sequences\u001b[0m\u001b[1;33m\u001b[0m\u001b[1;33m\u001b[0m\u001b[0m\n\u001b[0m\u001b[0;32m      8\u001b[0m \u001b[1;33m\u001b[0m\u001b[0m\n\u001b[0;32m      9\u001b[0m train_pad = pad_sequences(train_tokens, maxlen=max_tokens,\n",
      "\u001b[1;32mc:\\software\\python\\lib\\site-packages\\keras\\__init__.py\u001b[0m in \u001b[0;36m<module>\u001b[1;34m\u001b[0m\n\u001b[0;32m      1\u001b[0m \u001b[1;32mfrom\u001b[0m \u001b[0m__future__\u001b[0m \u001b[1;32mimport\u001b[0m \u001b[0mabsolute_import\u001b[0m\u001b[1;33m\u001b[0m\u001b[1;33m\u001b[0m\u001b[0m\n\u001b[0;32m      2\u001b[0m \u001b[1;33m\u001b[0m\u001b[0m\n\u001b[1;32m----> 3\u001b[1;33m \u001b[1;32mfrom\u001b[0m \u001b[1;33m.\u001b[0m \u001b[1;32mimport\u001b[0m \u001b[0mutils\u001b[0m\u001b[1;33m\u001b[0m\u001b[1;33m\u001b[0m\u001b[0m\n\u001b[0m\u001b[0;32m      4\u001b[0m \u001b[1;32mfrom\u001b[0m \u001b[1;33m.\u001b[0m \u001b[1;32mimport\u001b[0m \u001b[0mactivations\u001b[0m\u001b[1;33m\u001b[0m\u001b[1;33m\u001b[0m\u001b[0m\n\u001b[0;32m      5\u001b[0m \u001b[1;32mfrom\u001b[0m \u001b[1;33m.\u001b[0m \u001b[1;32mimport\u001b[0m \u001b[0mapplications\u001b[0m\u001b[1;33m\u001b[0m\u001b[1;33m\u001b[0m\u001b[0m\n",
      "\u001b[1;32mc:\\software\\python\\lib\\site-packages\\keras\\utils\\__init__.py\u001b[0m in \u001b[0;36m<module>\u001b[1;34m\u001b[0m\n\u001b[0;32m      4\u001b[0m \u001b[1;32mfrom\u001b[0m \u001b[1;33m.\u001b[0m \u001b[1;32mimport\u001b[0m \u001b[0mdata_utils\u001b[0m\u001b[1;33m\u001b[0m\u001b[1;33m\u001b[0m\u001b[0m\n\u001b[0;32m      5\u001b[0m \u001b[1;32mfrom\u001b[0m \u001b[1;33m.\u001b[0m \u001b[1;32mimport\u001b[0m \u001b[0mio_utils\u001b[0m\u001b[1;33m\u001b[0m\u001b[1;33m\u001b[0m\u001b[0m\n\u001b[1;32m----> 6\u001b[1;33m \u001b[1;32mfrom\u001b[0m \u001b[1;33m.\u001b[0m \u001b[1;32mimport\u001b[0m \u001b[0mconv_utils\u001b[0m\u001b[1;33m\u001b[0m\u001b[1;33m\u001b[0m\u001b[0m\n\u001b[0m\u001b[0;32m      7\u001b[0m \u001b[1;32mfrom\u001b[0m \u001b[1;33m.\u001b[0m \u001b[1;32mimport\u001b[0m \u001b[0mlosses_utils\u001b[0m\u001b[1;33m\u001b[0m\u001b[1;33m\u001b[0m\u001b[0m\n\u001b[0;32m      8\u001b[0m \u001b[1;32mfrom\u001b[0m \u001b[1;33m.\u001b[0m \u001b[1;32mimport\u001b[0m \u001b[0mmetrics_utils\u001b[0m\u001b[1;33m\u001b[0m\u001b[1;33m\u001b[0m\u001b[0m\n",
      "\u001b[1;32mc:\\software\\python\\lib\\site-packages\\keras\\utils\\conv_utils.py\u001b[0m in \u001b[0;36m<module>\u001b[1;34m\u001b[0m\n\u001b[0;32m      7\u001b[0m \u001b[1;32mfrom\u001b[0m \u001b[0msix\u001b[0m\u001b[1;33m.\u001b[0m\u001b[0mmoves\u001b[0m \u001b[1;32mimport\u001b[0m \u001b[0mrange\u001b[0m\u001b[1;33m\u001b[0m\u001b[1;33m\u001b[0m\u001b[0m\n\u001b[0;32m      8\u001b[0m \u001b[1;32mimport\u001b[0m \u001b[0mnumpy\u001b[0m \u001b[1;32mas\u001b[0m \u001b[0mnp\u001b[0m\u001b[1;33m\u001b[0m\u001b[1;33m\u001b[0m\u001b[0m\n\u001b[1;32m----> 9\u001b[1;33m \u001b[1;32mfrom\u001b[0m \u001b[1;33m.\u001b[0m\u001b[1;33m.\u001b[0m \u001b[1;32mimport\u001b[0m \u001b[0mbackend\u001b[0m \u001b[1;32mas\u001b[0m \u001b[0mK\u001b[0m\u001b[1;33m\u001b[0m\u001b[1;33m\u001b[0m\u001b[0m\n\u001b[0m\u001b[0;32m     10\u001b[0m \u001b[1;33m\u001b[0m\u001b[0m\n\u001b[0;32m     11\u001b[0m \u001b[1;33m\u001b[0m\u001b[0m\n",
      "\u001b[1;32mc:\\software\\python\\lib\\site-packages\\keras\\backend\\__init__.py\u001b[0m in \u001b[0;36m<module>\u001b[1;34m\u001b[0m\n\u001b[1;32m----> 1\u001b[1;33m \u001b[1;32mfrom\u001b[0m \u001b[1;33m.\u001b[0m\u001b[0mload_backend\u001b[0m \u001b[1;32mimport\u001b[0m \u001b[0mepsilon\u001b[0m\u001b[1;33m\u001b[0m\u001b[1;33m\u001b[0m\u001b[0m\n\u001b[0m\u001b[0;32m      2\u001b[0m \u001b[1;32mfrom\u001b[0m \u001b[1;33m.\u001b[0m\u001b[0mload_backend\u001b[0m \u001b[1;32mimport\u001b[0m \u001b[0mset_epsilon\u001b[0m\u001b[1;33m\u001b[0m\u001b[1;33m\u001b[0m\u001b[0m\n\u001b[0;32m      3\u001b[0m \u001b[1;32mfrom\u001b[0m \u001b[1;33m.\u001b[0m\u001b[0mload_backend\u001b[0m \u001b[1;32mimport\u001b[0m \u001b[0mfloatx\u001b[0m\u001b[1;33m\u001b[0m\u001b[1;33m\u001b[0m\u001b[0m\n\u001b[0;32m      4\u001b[0m \u001b[1;32mfrom\u001b[0m \u001b[1;33m.\u001b[0m\u001b[0mload_backend\u001b[0m \u001b[1;32mimport\u001b[0m \u001b[0mset_floatx\u001b[0m\u001b[1;33m\u001b[0m\u001b[1;33m\u001b[0m\u001b[0m\n\u001b[0;32m      5\u001b[0m \u001b[1;32mfrom\u001b[0m \u001b[1;33m.\u001b[0m\u001b[0mload_backend\u001b[0m \u001b[1;32mimport\u001b[0m \u001b[0mcast_to_floatx\u001b[0m\u001b[1;33m\u001b[0m\u001b[1;33m\u001b[0m\u001b[0m\n",
      "\u001b[1;32mc:\\software\\python\\lib\\site-packages\\keras\\backend\\load_backend.py\u001b[0m in \u001b[0;36m<module>\u001b[1;34m\u001b[0m\n\u001b[0;32m     88\u001b[0m \u001b[1;32melif\u001b[0m \u001b[0m_BACKEND\u001b[0m \u001b[1;33m==\u001b[0m \u001b[1;34m'tensorflow'\u001b[0m\u001b[1;33m:\u001b[0m\u001b[1;33m\u001b[0m\u001b[1;33m\u001b[0m\u001b[0m\n\u001b[0;32m     89\u001b[0m     \u001b[0msys\u001b[0m\u001b[1;33m.\u001b[0m\u001b[0mstderr\u001b[0m\u001b[1;33m.\u001b[0m\u001b[0mwrite\u001b[0m\u001b[1;33m(\u001b[0m\u001b[1;34m'Using TensorFlow backend.\\n'\u001b[0m\u001b[1;33m)\u001b[0m\u001b[1;33m\u001b[0m\u001b[1;33m\u001b[0m\u001b[0m\n\u001b[1;32m---> 90\u001b[1;33m     \u001b[1;32mfrom\u001b[0m \u001b[1;33m.\u001b[0m\u001b[0mtensorflow_backend\u001b[0m \u001b[1;32mimport\u001b[0m \u001b[1;33m*\u001b[0m\u001b[1;33m\u001b[0m\u001b[1;33m\u001b[0m\u001b[0m\n\u001b[0m\u001b[0;32m     91\u001b[0m \u001b[1;32melse\u001b[0m\u001b[1;33m:\u001b[0m\u001b[1;33m\u001b[0m\u001b[1;33m\u001b[0m\u001b[0m\n\u001b[0;32m     92\u001b[0m     \u001b[1;31m# Try and load external backend.\u001b[0m\u001b[1;33m\u001b[0m\u001b[1;33m\u001b[0m\u001b[1;33m\u001b[0m\u001b[0m\n",
      "\u001b[1;32mc:\\software\\python\\lib\\site-packages\\keras\\backend\\tensorflow_backend.py\u001b[0m in \u001b[0;36m<module>\u001b[1;34m\u001b[0m\n\u001b[0;32m      3\u001b[0m \u001b[1;32mfrom\u001b[0m \u001b[0m__future__\u001b[0m \u001b[1;32mimport\u001b[0m \u001b[0mprint_function\u001b[0m\u001b[1;33m\u001b[0m\u001b[1;33m\u001b[0m\u001b[0m\n\u001b[0;32m      4\u001b[0m \u001b[1;33m\u001b[0m\u001b[0m\n\u001b[1;32m----> 5\u001b[1;33m \u001b[1;32mimport\u001b[0m \u001b[0mtensorflow\u001b[0m \u001b[1;32mas\u001b[0m \u001b[0mtf\u001b[0m\u001b[1;33m\u001b[0m\u001b[1;33m\u001b[0m\u001b[0m\n\u001b[0m\u001b[0;32m      6\u001b[0m \u001b[1;32mfrom\u001b[0m \u001b[0mtensorflow\u001b[0m\u001b[1;33m.\u001b[0m\u001b[0mpython\u001b[0m\u001b[1;33m.\u001b[0m\u001b[0meager\u001b[0m \u001b[1;32mimport\u001b[0m \u001b[0mcontext\u001b[0m\u001b[1;33m\u001b[0m\u001b[1;33m\u001b[0m\u001b[0m\n\u001b[0;32m      7\u001b[0m \u001b[1;32mfrom\u001b[0m \u001b[0mtensorflow\u001b[0m\u001b[1;33m.\u001b[0m\u001b[0mpython\u001b[0m\u001b[1;33m.\u001b[0m\u001b[0mframework\u001b[0m \u001b[1;32mimport\u001b[0m \u001b[0mdevice\u001b[0m \u001b[1;32mas\u001b[0m \u001b[0mtfdev\u001b[0m\u001b[1;33m\u001b[0m\u001b[1;33m\u001b[0m\u001b[0m\n",
      "\u001b[1;31mModuleNotFoundError\u001b[0m: No module named 'tensorflow'"
     ]
    }
   ],
   "source": [
    "# padding(填充)和truncating(修剪)\n",
    "# 我们把文本转换为tokens（索引）之后，每一串索引的长度并不相等，所以为了方便模型的训练我们需要把索引的长度标准化，\n",
    "# 上面我们选择了236这个可以涵盖95%训练样本的长度，接下来我们进行padding和truncating，我们一般采用’pre’的方法，\n",
    "# 这会在文本索引的前面填充0，因为根据一些研究资料中的实践，如果在文本索引后面填充0的话，会对模型造成一些不良影响。\n",
    "# 进行padding和truncating， 输入的train_tokens是一个list\n",
    "# 返回的train_pad是一个numpy array\n",
    "from keras.preprocessing.sequence import pad_sequences\n",
    "\n",
    "train_pad = pad_sequences(train_tokens, maxlen=max_tokens,\n",
    "                            padding='pre', truncating='pre')\n",
    "\n",
    "# 超出五万个词向量的词用0代替\n",
    "train_pad[ train_pad>=num_words ] = 0\n",
    "\n",
    "\n",
    "# 可见padding之后前面的tokens全变成0，文本在最后面\n",
    "print(train_pad[33])"
   ]
  },
  {
   "cell_type": "code",
   "execution_count": null,
   "metadata": {},
   "outputs": [],
   "source": []
  }
 ],
 "metadata": {
  "kernelspec": {
   "display_name": "Python 3",
   "language": "python",
   "name": "python3"
  },
  "language_info": {
   "codemirror_mode": {
    "name": "ipython",
    "version": 3
   },
   "file_extension": ".py",
   "mimetype": "text/x-python",
   "name": "python",
   "nbconvert_exporter": "python",
   "pygments_lexer": "ipython3",
   "version": "3.7.1"
  }
 },
 "nbformat": 4,
 "nbformat_minor": 4
}
